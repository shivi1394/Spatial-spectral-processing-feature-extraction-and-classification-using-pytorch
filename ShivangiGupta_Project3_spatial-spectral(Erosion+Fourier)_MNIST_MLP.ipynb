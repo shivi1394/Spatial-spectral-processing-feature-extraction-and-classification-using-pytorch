{
 "cells": [
  {
   "cell_type": "code",
   "execution_count": 1,
   "metadata": {
    "collapsed": true
   },
   "outputs": [],
   "source": [
    "import torch\n",
    "import torchvision\n",
    "import torchvision.datasets as datasets\n",
    "import torchvision.transforms as transforms\n",
    "import torch.nn as nn\n",
    "import torch.nn.functional as F\n",
    "import torch.optim as optim    \n",
    "import matplotlib \n",
    "import matplotlib.pyplot as plt\n",
    "import numpy as np\n",
    "import pandas as pd\n",
    "import random\n",
    "import math\n",
    "import numpy\n",
    "from PIL import Image\n",
    "from pylab import *\n",
    "from skimage.feature import hog\n",
    "from skimage import feature\n",
    "from sklearn import datasets\n",
    "import cv2\n",
    "from skimage import exposure\n",
    "import timeit\n",
    "from skimage import transform as tf\n",
    "from scipy import ndimage\n",
    "from sklearn.decomposition import PCA\n",
    "from scipy import fftpack"
   ]
  },
  {
   "cell_type": "code",
   "execution_count": 2,
   "metadata": {
    "collapsed": true
   },
   "outputs": [],
   "source": [
    "#Multi-Layer Perceptron Model\n",
    "class MLP(nn.Module):\n",
    "    def __init__(self):\n",
    "        super(MLP, self).__init__()\n",
    "        self.fc1 = nn.Linear(28*28, 500)\n",
    "        self.fc2 = nn.Linear(500, 256)\n",
    "        self.fc3 = nn.Linear(256, 10)\n",
    "        \n",
    "\n",
    "    def forward(self, x):\n",
    "        x = x.view(-1, 28*28)\n",
    "        x = F.relu(self.fc1(x))\n",
    "        x = F.relu(self.fc2(x))\n",
    "        x = self.fc3(x)\n",
    "        return x\n",
    "\n",
    "MLP_network = MLP()"
   ]
  },
  {
   "cell_type": "code",
   "execution_count": 3,
   "metadata": {
    "collapsed": true
   },
   "outputs": [],
   "source": [
    "criterion = nn.CrossEntropyLoss() \n",
    "optimizer = optim.Adam(MLP_network.parameters(), lr=0.001, betas=(0.9,0.99), eps=1e-08, weight_decay=0.001)  "
   ]
  },
  {
   "cell_type": "code",
   "execution_count": 4,
   "metadata": {
    "collapsed": true
   },
   "outputs": [],
   "source": [
    "# transforms to apply to the mnist data\n",
    "trans = transforms.Compose([transforms.ToTensor(), transforms.Normalize((0.1307,), (0.3081,))])\n",
    "\n",
    "# MNIST dataset\n",
    "train_dataset = torchvision.datasets.MNIST(root='./data', train=True, download=True, transform=trans)\n",
    "test_dataset = torchvision.datasets.MNIST(root='./data', train=False, download=True, transform=trans)\n",
    "classes = (0, 1, 2, 3, 4, 5, 6, 7, 8, 9)"
   ]
  },
  {
   "cell_type": "code",
   "execution_count": 5,
   "metadata": {},
   "outputs": [
    {
     "data": {
      "image/png": "[encoded data removed]",
      "text/plain": [
       "<Figure size 720x720 with 9 Axes>"
      ]
     },
     "metadata": {
      "needs_background": "light"
     },
     "output_type": "display_data"
    }
   ],
   "source": [
    "fig = plt.figure(figsize=(10,10));\n",
    "columns = 4;\n",
    "rows = 5;\n",
    "for i in range(1, 10):\n",
    "    fig.add_subplot(rows, columns, i)\n",
    "    fig.tight_layout()\n",
    "    plt.imshow(train_dataset.train_data[i].numpy(), cmap='gray')\n",
    "    plt.title('Label : %i' % train_dataset.train_labels[i])\n",
    "plt.show()"
   ]
  },
  {
   "cell_type": "code",
   "execution_count": 6,
   "metadata": {},
   "outputs": [
    {
     "name": "stderr",
     "output_type": "stream",
     "text": [
      "/Users/shivangi/anaconda3/lib/python3.6/site-packages/scipy/fftpack/basic.py:159: FutureWarning: Using a non-tuple sequence for multidimensional indexing is deprecated; use `arr[tuple(seq)]` instead of `arr[seq]`. In the future this will be interpreted as an array index, `arr[np.array(seq)]`, which will result either in an error or a different result.\n",
      "  z[index] = x\n"
     ]
    }
   ],
   "source": [
    "#Spectral Processing of the Dataset\n",
    "pca = PCA(0.95)\n",
    "train_dataset.train_data = train_dataset.train_data.type(torch.FloatTensor)\n",
    "test_dataset.test_data = test_dataset.test_data.type(torch.FloatTensor)\n",
    "\n",
    "for i in range(0,len(train_dataset)):\n",
    "    image = ndimage.binary_erosion(train_dataset.train_data[i].numpy()).astype(train_dataset.train_data[i].numpy().dtype)\n",
    "    train_dataset.train_data[i] = torch.from_numpy(image)\n",
    "    \n",
    "for i in range(0,len(test_dataset)):\n",
    "    image = ndimage.binary_erosion(test_dataset.test_data[i].numpy()).astype(test_dataset.test_data[i].numpy().dtype)\n",
    "    test_dataset.test_data[i] = torch.from_numpy(image)\n",
    "\n",
    "#Spectral Processing of the Dataset\n",
    "for i in range(0,len(train_dataset)):\n",
    "    im_fft = fftpack.fft2(train_dataset.train_data[i].numpy())\n",
    "    image = fftpack.ifft2(im_fft)\n",
    "    train_dataset.train_data[i] = torch.from_numpy(image.real)\n",
    "    \n",
    "for i in range(0,len(test_dataset)):\n",
    "    im_fft = fftpack.fft2(test_dataset.test_data[i].numpy())\n",
    "    image = fftpack.ifft2(im_fft)\n",
    "    test_dataset.test_data[i] = torch.from_numpy(image.real)"
   ]
  },
  {
   "cell_type": "code",
   "execution_count": 7,
   "metadata": {},
   "outputs": [
    {
     "data": {
      "image/png": "[encoded data removed]",
      "text/plain": [
       "<Figure size 720x720 with 9 Axes>"
      ]
     },
     "metadata": {
      "needs_background": "light"
     },
     "output_type": "display_data"
    }
   ],
   "source": [
    "fig = plt.figure(figsize=(10,10));\n",
    "columns = 4;\n",
    "rows = 5;\n",
    "for i in range(1, 10):\n",
    "    fig.add_subplot(rows, columns, i)\n",
    "    fig.tight_layout()\n",
    "    plt.imshow(train_dataset.train_data[i].numpy(), cmap='gray')\n",
    "    plt.title('Label : %i' % train_dataset.train_labels[i])\n",
    "plt.show()"
   ]
  },
  {
   "cell_type": "code",
   "execution_count": 8,
   "metadata": {
    "collapsed": true
   },
   "outputs": [],
   "source": [
    "train_loader = torch.utils.data.DataLoader(train_dataset, batch_size=10, shuffle=True, num_workers=2)\n",
    "test_loader = torch.utils.data.DataLoader(dataset=test_dataset, batch_size=10, shuffle=False, num_workers=2)"
   ]
  },
  {
   "cell_type": "code",
   "execution_count": 9,
   "metadata": {},
   "outputs": [
    {
     "name": "stdout",
     "output_type": "stream",
     "text": [
      "----------------------------------------------------\n",
      "Epoch 1  | Loss : 1.8833\n",
      "----------------------------------------------------\n",
      "Epoch 2  | Loss : 1.7516\n",
      "----------------------------------------------------\n",
      "Epoch 3  | Loss : 1.6959\n",
      "----------------------------------------------------\n",
      "Epoch 4  | Loss : 1.6570\n",
      "----------------------------------------------------\n",
      "Epoch 5  | Loss : 1.6361\n",
      "----------------------------------------------------\n",
      "Epoch 6  | Loss : 1.6242\n",
      "----------------------------------------------------\n",
      "Epoch 7  | Loss : 1.6170\n",
      "----------------------------------------------------\n",
      "Epoch 8  | Loss : 1.6138\n",
      "----------------------------------------------------\n",
      "Epoch 9  | Loss : 1.6107\n",
      "----------------------------------------------------\n",
      "Epoch 10  | Loss : 1.6053\n",
      "----------------------------------------------------\n",
      "Epoch 11  | Loss : 1.6024\n",
      "----------------------------------------------------\n",
      "Epoch 12  | Loss : 1.5996\n",
      "----------------------------------------------------\n",
      "Epoch 13  | Loss : 1.5986\n",
      "----------------------------------------------------\n",
      "Epoch 14  | Loss : 1.5952\n",
      "----------------------------------------------------\n",
      "Epoch 15  | Loss : 1.5953\n",
      "----------------------------------------------------\n",
      "Epoch 16  | Loss : 1.5947\n",
      "----------------------------------------------------\n",
      "Epoch 17  | Loss : 1.5920\n",
      "----------------------------------------------------\n",
      "Epoch 18  | Loss : 1.5910\n",
      "----------------------------------------------------\n",
      "Epoch 19  | Loss : 1.5900\n",
      "----------------------------------------------------\n",
      "Epoch 20  | Loss : 1.5904\n",
      "----------------------------------------------------\n",
      "Finished Training\n"
     ]
    }
   ],
   "source": [
    "num_epochs = 20\n",
    "total_step = len(train_loader)\n",
    "Loss = []\n",
    "print('----------------------------------------------------')\n",
    "start= timeit.default_timer()\n",
    "for epoch in range(num_epochs):  # loop over the dataset multiple times\n",
    "\n",
    "    running_loss = 0.0\n",
    "    for i, data in enumerate(train_loader, 0):\n",
    "        # get the inputs\n",
    "        inputs, labels = data\n",
    "\n",
    "        # zero the parameter gradients\n",
    "        optimizer.zero_grad()\n",
    "\n",
    "        # forward + backward + optimize\n",
    "        outputs = MLP_network(inputs)\n",
    "        loss = criterion(outputs, labels)\n",
    "        loss.backward()\n",
    "        optimizer.step()\n",
    "\n",
    "        # print statistics\n",
    "        running_loss += loss.item()\n",
    "        \n",
    "    print('Epoch {}  | Loss : {:.4f}'.format(epoch+1, running_loss / total_step))        \n",
    "    print('----------------------------------------------------')\n",
    "    Loss.append(running_loss / total_step)\n",
    "print('Finished Training')\n",
    "stop = timeit.default_timer()"
   ]
  },
  {
   "cell_type": "code",
   "execution_count": 10,
   "metadata": {},
   "outputs": [
    {
     "name": "stdout",
     "output_type": "stream",
     "text": [
      "Accuracy of the network on the Test images: 37 %\n"
     ]
    }
   ],
   "source": [
    "correct = 0\n",
    "total = 0\n",
    "with torch.no_grad():\n",
    "    for data in test_loader:\n",
    "        images, labels = data\n",
    "        outputs = MLP_network(images)\n",
    "        _, predicted = torch.max(outputs.data, 1)\n",
    "        total += labels.size(0)\n",
    "        correct += (predicted == labels).sum().item()\n",
    "\n",
    "print('Accuracy of the network on the Test images: %d %%' % (100 * correct / total))"
   ]
  },
  {
   "cell_type": "code",
   "execution_count": 11,
   "metadata": {},
   "outputs": [
    {
     "name": "stdout",
     "output_type": "stream",
     "text": [
      "Accuracy of class 0 : 33 %\n",
      "Accuracy of class 1 : 66 %\n",
      "Accuracy of class 2 : 55 %\n",
      "Accuracy of class 3 : 25 %\n",
      "Accuracy of class 4 : 20 %\n",
      "Accuracy of class 5 :  7 %\n",
      "Accuracy of class 6 : 79 %\n",
      "Accuracy of class 7 : 64 %\n",
      "Accuracy of class 8 : 17 %\n",
      "Accuracy of class 9 :  0 %\n"
     ]
    }
   ],
   "source": [
    "class_correct = list(0. for i in range(10))\n",
    "class_total = list(0. for i in range(10))\n",
    "with torch.no_grad():\n",
    "    for data in test_loader:\n",
    "        images, labels = data\n",
    "        outputs = MLP_network(images)\n",
    "        _, predicted = torch.max(outputs, 1)\n",
    "        c = (predicted == labels).squeeze()\n",
    "        for i in range(10):\n",
    "            label = labels[i]\n",
    "            class_correct[label] += c[i].item()\n",
    "            class_total[label] += 1\n",
    "\n",
    "for i in range(10):\n",
    "    print('Accuracy of class %s : %2d %%' % (\n",
    "        classes[i], 100 * class_correct[i] / class_total[i]))"
   ]
  },
  {
   "cell_type": "code",
   "execution_count": 12,
   "metadata": {
    "collapsed": true
   },
   "outputs": [],
   "source": [
    "#Applying Different Feature extraction Methods\n",
    "##SOBEL EDGE Detector##\n",
    "train_sobel = train_dataset\n",
    "test_sobel = test_dataset\n",
    "for i in range(0,len(train_sobel)):\n",
    "    image = ndimage.sobel(train_sobel.train_data[i].numpy()) \n",
    "    train_sobel.train_data[i] = torch.from_numpy(image)\n",
    "    \n",
    "for i in range(0,len(test_sobel)):\n",
    "    image = ndimage.sobel(test_sobel.test_data[i].numpy()) \n",
    "    test_sobel.test_data[i] = torch.from_numpy(image)   "
   ]
  },
  {
   "cell_type": "code",
   "execution_count": 13,
   "metadata": {},
   "outputs": [
    {
     "data": {
      "image/png": "[encoded data removed]",
      "text/plain": [
       "<Figure size 720x720 with 9 Axes>"
      ]
     },
     "metadata": {
      "needs_background": "light"
     },
     "output_type": "display_data"
    }
   ],
   "source": [
    "fig = plt.figure(figsize=(10,10));\n",
    "columns = 4;\n",
    "rows = 5;\n",
    "for i in range(1, 10):\n",
    "    fig.add_subplot(rows, columns, i)\n",
    "    fig.tight_layout()\n",
    "    plt.imshow(train_sobel.train_data[i].numpy(), cmap='gray')\n",
    "    plt.title('Label : %i' % train_sobel.train_labels[i])\n",
    "plt.show()"
   ]
  },
  {
   "cell_type": "code",
   "execution_count": 14,
   "metadata": {
    "collapsed": true
   },
   "outputs": [],
   "source": [
    "train_sobel_loader = torch.utils.data.DataLoader(train_sobel, batch_size=10, shuffle=True, num_workers=2)\n",
    "test_sobel_loader = torch.utils.data.DataLoader(dataset=test_sobel, batch_size=10, shuffle=False, num_workers=2)"
   ]
  },
  {
   "cell_type": "code",
   "execution_count": 15,
   "metadata": {},
   "outputs": [
    {
     "name": "stdout",
     "output_type": "stream",
     "text": [
      "----------------------------------------------------\n",
      "Epoch 1  | Loss : 1.6258\n",
      "----------------------------------------------------\n",
      "Epoch 2  | Loss : 1.5333\n",
      "----------------------------------------------------\n",
      "Epoch 3  | Loss : 1.5072\n",
      "----------------------------------------------------\n",
      "Epoch 4  | Loss : 1.4933\n",
      "----------------------------------------------------\n",
      "Epoch 5  | Loss : 1.4887\n",
      "----------------------------------------------------\n",
      "Epoch 6  | Loss : 1.4812\n",
      "----------------------------------------------------\n",
      "Epoch 7  | Loss : 1.4779\n",
      "----------------------------------------------------\n",
      "Epoch 8  | Loss : 1.4775\n",
      "----------------------------------------------------\n",
      "Epoch 9  | Loss : 1.4749\n",
      "----------------------------------------------------\n",
      "Epoch 10  | Loss : 1.4722\n",
      "----------------------------------------------------\n",
      "Epoch 11  | Loss : 1.4705\n",
      "----------------------------------------------------\n",
      "Epoch 12  | Loss : 1.4730\n",
      "----------------------------------------------------\n",
      "Epoch 13  | Loss : 1.4697\n",
      "----------------------------------------------------\n",
      "Epoch 14  | Loss : 1.4704\n",
      "----------------------------------------------------\n",
      "Epoch 15  | Loss : 1.4698\n",
      "----------------------------------------------------\n",
      "Epoch 16  | Loss : 1.4680\n",
      "----------------------------------------------------\n",
      "Epoch 17  | Loss : 1.4666\n",
      "----------------------------------------------------\n",
      "Epoch 18  | Loss : 1.4658\n",
      "----------------------------------------------------\n",
      "Epoch 19  | Loss : 1.4653\n",
      "----------------------------------------------------\n",
      "Epoch 20  | Loss : 1.4655\n",
      "----------------------------------------------------\n",
      "Finished Training\n"
     ]
    }
   ],
   "source": [
    "num_epochs = 20\n",
    "total_step = len(train_sobel_loader)\n",
    "Loss_1 = []\n",
    "print('----------------------------------------------------')\n",
    "start1 = timeit.default_timer()\n",
    "for epoch in range(num_epochs):  # loop over the dataset multiple times\n",
    "\n",
    "    running_loss = 0.0\n",
    "    for i, data in enumerate(train_sobel_loader, 0):\n",
    "        # get the inputs\n",
    "        inputs, labels = data\n",
    "\n",
    "        # zero the parameter gradients\n",
    "        optimizer.zero_grad()\n",
    "\n",
    "        # forward + backward + optimize\n",
    "        outputs = MLP_network(inputs)\n",
    "        loss = criterion(outputs, labels)\n",
    "        loss.backward()\n",
    "        optimizer.step()\n",
    "\n",
    "        # print statistics\n",
    "        running_loss += loss.item()\n",
    "        \n",
    "    print('Epoch {}  | Loss : {:.4f}'.format(epoch+1, running_loss / total_step))        \n",
    "    print('----------------------------------------------------')\n",
    "    Loss_1.append(running_loss / total_step)\n",
    "print('Finished Training')\n",
    "stop1 = timeit.default_timer()"
   ]
  },
  {
   "cell_type": "code",
   "execution_count": 16,
   "metadata": {},
   "outputs": [
    {
     "name": "stdout",
     "output_type": "stream",
     "text": [
      "Accuracy of the network on the Test images: 44 %\n"
     ]
    }
   ],
   "source": [
    "correct = 0\n",
    "total = 0\n",
    "with torch.no_grad():\n",
    "    for data in test_sobel_loader:\n",
    "        images, labels = data\n",
    "        outputs = MLP_network(images)\n",
    "        _, predicted = torch.max(outputs.data, 1)\n",
    "        total += labels.size(0)\n",
    "        correct += (predicted == labels).sum().item()\n",
    "\n",
    "print('Accuracy of the network on the Test images: %d %%' % (100 * correct / total))"
   ]
  },
  {
   "cell_type": "code",
   "execution_count": 17,
   "metadata": {},
   "outputs": [
    {
     "name": "stdout",
     "output_type": "stream",
     "text": [
      "Accuracy of class 0 : 49 %\n",
      "Accuracy of class 1 : 64 %\n",
      "Accuracy of class 2 : 41 %\n",
      "Accuracy of class 3 : 35 %\n",
      "Accuracy of class 4 : 25 %\n",
      "Accuracy of class 5 : 22 %\n",
      "Accuracy of class 6 : 83 %\n",
      "Accuracy of class 7 : 51 %\n",
      "Accuracy of class 8 : 18 %\n",
      "Accuracy of class 9 : 46 %\n"
     ]
    }
   ],
   "source": [
    "class_correct = list(0. for i in range(10))\n",
    "class_total = list(0. for i in range(10))\n",
    "with torch.no_grad():\n",
    "    for data in test_sobel_loader:\n",
    "        images, labels = data\n",
    "        outputs = MLP_network(images)\n",
    "        _, predicted = torch.max(outputs, 1)\n",
    "        c = (predicted == labels).squeeze()\n",
    "        for i in range(10):\n",
    "            label = labels[i]\n",
    "            class_correct[label] += c[i].item()\n",
    "            class_total[label] += 1\n",
    "\n",
    "for i in range(10):\n",
    "    print('Accuracy of class %s : %2d %%' % (\n",
    "        classes[i], 100 * class_correct[i] / class_total[i]))"
   ]
  },
  {
   "cell_type": "code",
   "execution_count": 18,
   "metadata": {
    "collapsed": true
   },
   "outputs": [],
   "source": [
    "##CANNY EDGE DETECTOR##\n",
    "train_canny  = train_dataset\n",
    "test_canny = test_dataset\n",
    "\n",
    "for i in range(0,len(train_canny)):\n",
    "    image = feature.canny(train_canny.train_data[i].numpy()) * 1\n",
    "    train_canny.train_data[i] = torch.from_numpy(image)\n",
    "    \n",
    "for i in range(0,len(test_canny)):\n",
    "    image = feature.canny(test_canny.test_data[i].numpy()) * 1\n",
    "    test_canny.test_data[i] = torch.from_numpy(image)"
   ]
  },
  {
   "cell_type": "code",
   "execution_count": 19,
   "metadata": {},
   "outputs": [
    {
     "data": {
      "image/png": "[encoded data removed]",
      "text/plain": [
       "<Figure size 720x720 with 9 Axes>"
      ]
     },
     "metadata": {
      "needs_background": "light"
     },
     "output_type": "display_data"
    }
   ],
   "source": [
    "fig = plt.figure(figsize=(10,10));\n",
    "columns = 4;\n",
    "rows = 5;\n",
    "for i in range(1, 10):\n",
    "    fig.add_subplot(rows, columns, i)\n",
    "    fig.tight_layout()\n",
    "    plt.imshow(train_canny.train_data[i].numpy(), cmap='gray')\n",
    "    plt.title('Label : %i' % train_canny.train_labels[i])\n",
    "plt.show()"
   ]
  },
  {
   "cell_type": "code",
   "execution_count": 20,
   "metadata": {
    "collapsed": true
   },
   "outputs": [],
   "source": [
    "train_canny_loader = torch.utils.data.DataLoader(train_canny, batch_size=10, shuffle=True, num_workers=2)\n",
    "test_canny_loader = torch.utils.data.DataLoader(dataset=test_canny, batch_size=10, shuffle=False, num_workers=2)"
   ]
  },
  {
   "cell_type": "code",
   "execution_count": 21,
   "metadata": {},
   "outputs": [
    {
     "name": "stdout",
     "output_type": "stream",
     "text": [
      "----------------------------------------------------\n",
      "Epoch 1  | Loss : 1.5120\n",
      "----------------------------------------------------\n",
      "Epoch 2  | Loss : 1.4122\n",
      "----------------------------------------------------\n",
      "Epoch 3  | Loss : 1.3872\n",
      "----------------------------------------------------\n",
      "Epoch 4  | Loss : 1.3736\n",
      "----------------------------------------------------\n",
      "Epoch 5  | Loss : 1.3649\n",
      "----------------------------------------------------\n",
      "Epoch 6  | Loss : 1.3550\n",
      "----------------------------------------------------\n",
      "Epoch 7  | Loss : 1.3473\n",
      "----------------------------------------------------\n",
      "Epoch 8  | Loss : 1.3416\n",
      "----------------------------------------------------\n",
      "Epoch 9  | Loss : 1.3363\n",
      "----------------------------------------------------\n",
      "Epoch 10  | Loss : 1.3302\n",
      "----------------------------------------------------\n",
      "Epoch 11  | Loss : 1.3304\n",
      "----------------------------------------------------\n",
      "Epoch 12  | Loss : 1.3256\n",
      "----------------------------------------------------\n",
      "Epoch 13  | Loss : 1.3217\n",
      "----------------------------------------------------\n",
      "Epoch 14  | Loss : 1.3175\n",
      "----------------------------------------------------\n",
      "Epoch 15  | Loss : 1.3170\n",
      "----------------------------------------------------\n",
      "Epoch 16  | Loss : 1.3143\n",
      "----------------------------------------------------\n",
      "Epoch 17  | Loss : 1.3132\n",
      "----------------------------------------------------\n",
      "Epoch 18  | Loss : 1.3125\n",
      "----------------------------------------------------\n",
      "Epoch 19  | Loss : 1.3105\n",
      "----------------------------------------------------\n",
      "Epoch 20  | Loss : 1.3082\n",
      "----------------------------------------------------\n",
      "Finished Training\n"
     ]
    }
   ],
   "source": [
    "num_epochs = 20\n",
    "total_step = len(train_canny_loader)\n",
    "Loss_2 = []\n",
    "print('----------------------------------------------------')\n",
    "start2 = timeit.default_timer()\n",
    "for epoch in range(num_epochs):  # loop over the dataset multiple times\n",
    "\n",
    "    running_loss = 0.0\n",
    "    for i, data in enumerate(train_canny_loader, 0):\n",
    "        # get the inputs\n",
    "        inputs, labels = data\n",
    "\n",
    "        # zero the parameter gradients\n",
    "        optimizer.zero_grad()\n",
    "\n",
    "        # forward + backward + optimize\n",
    "        outputs = MLP_network(inputs)\n",
    "        loss = criterion(outputs, labels)\n",
    "        loss.backward()\n",
    "        optimizer.step()\n",
    "\n",
    "        # print statistics\n",
    "        running_loss += loss.item()\n",
    "        \n",
    "    print('Epoch {}  | Loss : {:.4f}'.format(epoch+1, running_loss / total_step))        \n",
    "    print('----------------------------------------------------')\n",
    "    Loss_2.append(running_loss / total_step)\n",
    "print('Finished Training')\n",
    "stop2 = timeit.default_timer()"
   ]
  },
  {
   "cell_type": "code",
   "execution_count": 22,
   "metadata": {},
   "outputs": [
    {
     "name": "stdout",
     "output_type": "stream",
     "text": [
      "Accuracy of the network on the Test images: 54 %\n"
     ]
    }
   ],
   "source": [
    "correct = 0\n",
    "total = 0\n",
    "with torch.no_grad():\n",
    "    for data in test_canny_loader:\n",
    "        images, labels = data\n",
    "        outputs = MLP_network(images)\n",
    "        _, predicted = torch.max(outputs.data, 1)\n",
    "        total += labels.size(0)\n",
    "        correct += (predicted == labels).sum().item()\n",
    "\n",
    "print('Accuracy of the network on the Test images: %d %%' % (100 * correct / total))"
   ]
  },
  {
   "cell_type": "code",
   "execution_count": 23,
   "metadata": {},
   "outputs": [
    {
     "name": "stdout",
     "output_type": "stream",
     "text": [
      "Accuracy of class 0 : 30 %\n",
      "Accuracy of class 1 : 85 %\n",
      "Accuracy of class 2 : 44 %\n",
      "Accuracy of class 3 : 49 %\n",
      "Accuracy of class 4 : 42 %\n",
      "Accuracy of class 5 : 40 %\n",
      "Accuracy of class 6 : 91 %\n",
      "Accuracy of class 7 : 77 %\n",
      "Accuracy of class 8 : 33 %\n",
      "Accuracy of class 9 : 44 %\n"
     ]
    }
   ],
   "source": [
    "class_correct = list(0. for i in range(10))\n",
    "class_total = list(0. for i in range(10))\n",
    "with torch.no_grad():\n",
    "    for data in test_canny_loader:\n",
    "        images, labels = data\n",
    "        outputs = MLP_network(images)\n",
    "        _, predicted = torch.max(outputs, 1)\n",
    "        c = (predicted == labels).squeeze()\n",
    "        for i in range(10):\n",
    "            label = labels[i]\n",
    "            class_correct[label] += c[i].item()\n",
    "            class_total[label] += 1\n",
    "\n",
    "for i in range(10):\n",
    "    print('Accuracy of class %s : %2d %%' % (\n",
    "        classes[i], 100 * class_correct[i] / class_total[i]))"
   ]
  },
  {
   "cell_type": "code",
   "execution_count": 24,
   "metadata": {
    "collapsed": true
   },
   "outputs": [],
   "source": [
    "##LOCAL BINARY PATTERN##\n",
    "train_lbp = train_dataset\n",
    "test_lbp = test_dataset\n",
    "\n",
    "for i in range(0,len(train_lbp)):\n",
    "    image = feature.local_binary_pattern(train_lbp.train_data[i].numpy(), P = 100, R = 50)\n",
    "    train_lbp.train_data[i] = torch.from_numpy(image)\n",
    "    \n",
    "for i in range(0,len(test_lbp)):\n",
    "    image = feature.local_binary_pattern(test_lbp.test_data[i].numpy(), P = 100, R = 50)\n",
    "    test_lbp.test_data[i] = torch.from_numpy(image)"
   ]
  },
  {
   "cell_type": "code",
   "execution_count": 25,
   "metadata": {},
   "outputs": [
    {
     "data": {
      "image/png": "[encoded data removed]",
      "text/plain": [
       "<Figure size 720x720 with 9 Axes>"
      ]
     },
     "metadata": {
      "needs_background": "light"
     },
     "output_type": "display_data"
    }
   ],
   "source": [
    "fig = plt.figure(figsize=(10,10));\n",
    "columns = 4;\n",
    "rows = 5;\n",
    "for i in range(1, 10):\n",
    "    fig.add_subplot(rows, columns, i)\n",
    "    fig.tight_layout()\n",
    "    plt.imshow(train_lbp.train_data[i].numpy(), cmap='gray')\n",
    "    plt.title('Label : %i' % train_lbp.train_labels[i])\n",
    "plt.show()"
   ]
  },
  {
   "cell_type": "code",
   "execution_count": 26,
   "metadata": {
    "collapsed": true
   },
   "outputs": [],
   "source": [
    "train_lbp_loader = torch.utils.data.DataLoader(train_lbp, batch_size=10, shuffle=True, num_workers=2)\n",
    "test_lbp_loader = torch.utils.data.DataLoader(dataset=test_lbp, batch_size=10, shuffle=False, num_workers=2)"
   ]
  },
  {
   "cell_type": "code",
   "execution_count": 27,
   "metadata": {},
   "outputs": [
    {
     "name": "stdout",
     "output_type": "stream",
     "text": [
      "----------------------------------------------------\n",
      "Epoch 1  | Loss : 1.5827\n",
      "----------------------------------------------------\n",
      "Epoch 2  | Loss : 1.4392\n",
      "----------------------------------------------------\n",
      "Epoch 3  | Loss : 1.4161\n",
      "----------------------------------------------------\n",
      "Epoch 4  | Loss : 1.4024\n",
      "----------------------------------------------------\n",
      "Epoch 5  | Loss : 1.3948\n",
      "----------------------------------------------------\n",
      "Epoch 6  | Loss : 1.3876\n",
      "----------------------------------------------------\n",
      "Epoch 7  | Loss : 1.3832\n",
      "----------------------------------------------------\n",
      "Epoch 8  | Loss : 1.3757\n",
      "----------------------------------------------------\n",
      "Epoch 9  | Loss : 1.3726\n",
      "----------------------------------------------------\n",
      "Epoch 10  | Loss : 1.3702\n",
      "----------------------------------------------------\n",
      "Epoch 11  | Loss : 1.3662\n",
      "----------------------------------------------------\n",
      "Epoch 12  | Loss : 1.3651\n",
      "----------------------------------------------------\n",
      "Epoch 13  | Loss : 1.3630\n",
      "----------------------------------------------------\n",
      "Epoch 14  | Loss : 1.3627\n",
      "----------------------------------------------------\n",
      "Epoch 15  | Loss : 1.3582\n",
      "----------------------------------------------------\n",
      "Epoch 16  | Loss : 1.3578\n",
      "----------------------------------------------------\n",
      "Epoch 17  | Loss : 1.3565\n",
      "----------------------------------------------------\n",
      "Epoch 18  | Loss : 1.3576\n",
      "----------------------------------------------------\n",
      "Epoch 19  | Loss : 1.3525\n",
      "----------------------------------------------------\n",
      "Epoch 20  | Loss : 1.3546\n",
      "----------------------------------------------------\n",
      "Finished Training\n"
     ]
    }
   ],
   "source": [
    "num_epochs = 20\n",
    "total_step = len(train_lbp_loader)\n",
    "Loss_3 = []\n",
    "print('----------------------------------------------------')\n",
    "start3 = timeit.default_timer()\n",
    "for epoch in range(num_epochs):  # loop over the dataset multiple times\n",
    "\n",
    "    running_loss = 0.0\n",
    "    for i, data in enumerate(train_lbp_loader, 0):\n",
    "        # get the inputs\n",
    "        inputs, labels = data\n",
    "\n",
    "        # zero the parameter gradients\n",
    "        optimizer.zero_grad()\n",
    "\n",
    "        # forward + backward + optimize\n",
    "        outputs = MLP_network(inputs)\n",
    "        loss = criterion(outputs, labels)\n",
    "        loss.backward()\n",
    "        optimizer.step()\n",
    "\n",
    "        # print statistics\n",
    "        running_loss += loss.item()\n",
    "        \n",
    "    print('Epoch {}  | Loss : {:.4f}'.format(epoch+1, running_loss / total_step))        \n",
    "    print('----------------------------------------------------')\n",
    "    Loss_3.append(running_loss / total_step)\n",
    "print('Finished Training')\n",
    "stop3 = timeit.default_timer()"
   ]
  },
  {
   "cell_type": "code",
   "execution_count": 28,
   "metadata": {},
   "outputs": [
    {
     "name": "stdout",
     "output_type": "stream",
     "text": [
      "Accuracy of the network on the Test images: 50 %\n"
     ]
    }
   ],
   "source": [
    "correct = 0\n",
    "total = 0\n",
    "with torch.no_grad():\n",
    "    for data in test_lbp_loader:\n",
    "        images, labels = data\n",
    "        outputs = MLP_network(images)\n",
    "        _, predicted = torch.max(outputs.data, 1)\n",
    "        total += labels.size(0)\n",
    "        correct += (predicted == labels).sum().item()\n",
    "\n",
    "print('Accuracy of the network on the Test images: %d %%' % (100 * correct / total))"
   ]
  },
  {
   "cell_type": "code",
   "execution_count": 29,
   "metadata": {},
   "outputs": [
    {
     "name": "stdout",
     "output_type": "stream",
     "text": [
      "Accuracy of class 0 : 31 %\n",
      "Accuracy of class 1 : 84 %\n",
      "Accuracy of class 2 : 33 %\n",
      "Accuracy of class 3 : 59 %\n",
      "Accuracy of class 4 : 25 %\n",
      "Accuracy of class 5 : 38 %\n",
      "Accuracy of class 6 : 81 %\n",
      "Accuracy of class 7 : 56 %\n",
      "Accuracy of class 8 : 38 %\n",
      "Accuracy of class 9 : 54 %\n"
     ]
    }
   ],
   "source": [
    "class_correct = list(0. for i in range(10))\n",
    "class_total = list(0. for i in range(10))\n",
    "with torch.no_grad():\n",
    "    for data in test_lbp_loader:\n",
    "        images, labels = data\n",
    "        outputs = MLP_network(images)\n",
    "        _, predicted = torch.max(outputs, 1)\n",
    "        c = (predicted == labels).squeeze()\n",
    "        for i in range(10):\n",
    "            label = labels[i]\n",
    "            class_correct[label] += c[i].item()\n",
    "            class_total[label] += 1\n",
    "            \n",
    "for i in range(10):\n",
    "    print('Accuracy of class %s : %2d %%' % (\n",
    "        classes[i], 100 * class_correct[i] / class_total[i]))"
   ]
  },
  {
   "cell_type": "code",
   "execution_count": 30,
   "metadata": {
    "collapsed": true
   },
   "outputs": [],
   "source": [
    "##PEAK LOCAL MAXIMA##\n",
    "train_plm = train_dataset\n",
    "test_plm = test_dataset\n",
    "\n",
    "for i in range(0,len(train_plm)):\n",
    "    image = feature.peak_local_max(train_plm.train_data[i].numpy(), indices = False) * 1\n",
    "    train_plm.train_data[i] = torch.from_numpy(image)\n",
    "    \n",
    "for i in range(0,len(test_plm)):\n",
    "    image = feature.peak_local_max(test_plm.test_data[i].numpy(), indices = False) * 1\n",
    "    test_plm.test_data[i] = torch.from_numpy(image)"
   ]
  },
  {
   "cell_type": "code",
   "execution_count": 31,
   "metadata": {},
   "outputs": [
    {
     "data": {
      "image/png": "[encoded data removed]",
      "text/plain": [
       "<Figure size 720x720 with 9 Axes>"
      ]
     },
     "metadata": {
      "needs_background": "light"
     },
     "output_type": "display_data"
    }
   ],
   "source": [
    "fig = plt.figure(figsize=(10,10));\n",
    "columns = 4;\n",
    "rows = 5;\n",
    "for i in range(1, 10):\n",
    "    fig.add_subplot(rows, columns, i)\n",
    "    fig.tight_layout()\n",
    "    plt.imshow(train_plm.train_data[i].numpy(), cmap='gray')\n",
    "    plt.title('Label : %i' % train_plm.train_labels[i])\n",
    "plt.show()"
   ]
  },
  {
   "cell_type": "code",
   "execution_count": 32,
   "metadata": {
    "collapsed": true
   },
   "outputs": [],
   "source": [
    "train_plm_loader = torch.utils.data.DataLoader(train_plm, batch_size=10, shuffle=True, num_workers=2)\n",
    "test_plm_loader = torch.utils.data.DataLoader(dataset=test_plm, batch_size=10, shuffle=False, num_workers=2)"
   ]
  },
  {
   "cell_type": "code",
   "execution_count": 33,
   "metadata": {},
   "outputs": [
    {
     "name": "stdout",
     "output_type": "stream",
     "text": [
      "----------------------------------------------------\n",
      "Epoch 1  | Loss : 1.4661\n",
      "----------------------------------------------------\n",
      "Epoch 2  | Loss : 1.3904\n",
      "----------------------------------------------------\n",
      "Epoch 3  | Loss : 1.3714\n",
      "----------------------------------------------------\n",
      "Epoch 4  | Loss : 1.3613\n",
      "----------------------------------------------------\n",
      "Epoch 5  | Loss : 1.3541\n",
      "----------------------------------------------------\n",
      "Epoch 6  | Loss : 1.3475\n",
      "----------------------------------------------------\n",
      "Epoch 7  | Loss : 1.3429\n",
      "----------------------------------------------------\n",
      "Epoch 8  | Loss : 1.3414\n",
      "----------------------------------------------------\n",
      "Epoch 9  | Loss : 1.3357\n",
      "----------------------------------------------------\n",
      "Epoch 10  | Loss : 1.3328\n",
      "----------------------------------------------------\n",
      "Epoch 11  | Loss : 1.3297\n",
      "----------------------------------------------------\n",
      "Epoch 12  | Loss : 1.3291\n",
      "----------------------------------------------------\n",
      "Epoch 13  | Loss : 1.3279\n",
      "----------------------------------------------------\n",
      "Epoch 14  | Loss : 1.3265\n",
      "----------------------------------------------------\n",
      "Epoch 15  | Loss : 1.3243\n",
      "----------------------------------------------------\n",
      "Epoch 16  | Loss : 1.3250\n",
      "----------------------------------------------------\n",
      "Epoch 17  | Loss : 1.3223\n",
      "----------------------------------------------------\n",
      "Epoch 18  | Loss : 1.3240\n",
      "----------------------------------------------------\n",
      "Epoch 19  | Loss : 1.3227\n",
      "----------------------------------------------------\n",
      "Epoch 20  | Loss : 1.3215\n",
      "----------------------------------------------------\n",
      "Finished Training\n"
     ]
    }
   ],
   "source": [
    "num_epochs = 20\n",
    "total_step = len(train_plm_loader)\n",
    "Loss_4 = []\n",
    "print('----------------------------------------------------')\n",
    "start4 = timeit.default_timer()\n",
    "for epoch in range(num_epochs):  # loop over the dataset multiple times\n",
    "\n",
    "    running_loss = 0.0\n",
    "    for i, data in enumerate(train_plm_loader, 0):\n",
    "        # get the inputs\n",
    "        inputs, labels = data\n",
    "\n",
    "        # zero the parameter gradients\n",
    "        optimizer.zero_grad()\n",
    "\n",
    "        # forward + backward + optimize\n",
    "        outputs = MLP_network(inputs)\n",
    "        loss = criterion(outputs, labels)\n",
    "        loss.backward()\n",
    "        optimizer.step()\n",
    "\n",
    "        # print statistics\n",
    "        running_loss += loss.item()\n",
    "        \n",
    "    print('Epoch {}  | Loss : {:.4f}'.format(epoch+1, running_loss / total_step))        \n",
    "    print('----------------------------------------------------')\n",
    "    Loss_4.append(running_loss / total_step)\n",
    "print('Finished Training')\n",
    "stop4 = timeit.default_timer()"
   ]
  },
  {
   "cell_type": "code",
   "execution_count": 34,
   "metadata": {},
   "outputs": [
    {
     "name": "stdout",
     "output_type": "stream",
     "text": [
      "Accuracy of the network on the Test images: 53 %\n"
     ]
    }
   ],
   "source": [
    "correct = 0\n",
    "total = 0\n",
    "with torch.no_grad():\n",
    "    for data in test_plm_loader:\n",
    "        images, labels = data\n",
    "        outputs = MLP_network(images)\n",
    "        _, predicted = torch.max(outputs.data, 1)\n",
    "        total += labels.size(0)\n",
    "        correct += (predicted == labels).sum().item()\n",
    "\n",
    "print('Accuracy of the network on the Test images: %d %%' % (100 * correct / total))"
   ]
  },
  {
   "cell_type": "code",
   "execution_count": 35,
   "metadata": {},
   "outputs": [
    {
     "name": "stdout",
     "output_type": "stream",
     "text": [
      "Accuracy of class 0 : 44 %\n",
      "Accuracy of class 1 : 87 %\n",
      "Accuracy of class 2 : 45 %\n",
      "Accuracy of class 3 : 48 %\n",
      "Accuracy of class 4 : 35 %\n",
      "Accuracy of class 5 : 38 %\n",
      "Accuracy of class 6 : 89 %\n",
      "Accuracy of class 7 : 81 %\n",
      "Accuracy of class 8 : 23 %\n",
      "Accuracy of class 9 : 33 %\n"
     ]
    }
   ],
   "source": [
    "classes = (0, 1, 2, 3, 4, 5, 6, 7, 8, 9)\n",
    "class_correct = list(0. for i in range(10))\n",
    "class_total = list(0. for i in range(10))\n",
    "with torch.no_grad():\n",
    "    for data in test_plm_loader:\n",
    "        images, labels = data\n",
    "        outputs = MLP_network(images)\n",
    "        _, predicted = torch.max(outputs, 1)\n",
    "        c = (predicted == labels).squeeze()\n",
    "        for i in range(10):\n",
    "            label = labels[i]\n",
    "            class_correct[label] += c[i].item()\n",
    "            class_total[label] += 1\n",
    "            \n",
    "for i in range(10):\n",
    "    print('Accuracy of class %s : %2d %%' % (\n",
    "        classes[i], 100 * class_correct[i] / class_total[i]))"
   ]
  },
  {
   "cell_type": "code",
   "execution_count": 36,
   "metadata": {},
   "outputs": [
    {
     "data": {
      "image/png": "[encoded data removed]",
      "text/plain": [
       "<Figure size 432x288 with 1 Axes>"
      ]
     },
     "metadata": {
      "needs_background": "light"
     },
     "output_type": "display_data"
    }
   ],
   "source": [
    "plt.plot(Loss, 'k--', label = \"Erosion + Fourier Transform (Spatial-Spectral Processing) + MLP\")\n",
    "plt.plot(Loss_1, 'r--', label = \"Erosion + Fourier Transform (Spatial-Spectral Processing) + Sobel Edge detector + MLP\")\n",
    "plt.plot(Loss_2, 'b--', label = \"Erosion + Fourier Transform (Spatial-Spectral Processing) + Canny Edge detector + MLP\")\n",
    "plt.plot(Loss_3, 'g--', label = \"Erosion + Fourier Transform (Spatial-Spectral Processing) + Local Binary pattern + MLP\")\n",
    "plt.plot(Loss_4, 'y--', label = \"Erosion + Fourier Transform (Spatial-Spectral Processing) + Peak Local Max + MLP\")\n",
    "plt.title(\"Loss vs Epoch for MNIST Dataset (using MLP)\")\n",
    "plt.xlim([0, num_epochs])\n",
    "plt.xlabel(\"Epoch\")\n",
    "plt.ylabel(\"Loss\")\n",
    "plt.legend(bbox_to_anchor=(1.05, 1), loc=2, borderaxespad=0.)\n",
    "plt.show()"
   ]
  },
  {
   "cell_type": "code",
   "execution_count": 37,
   "metadata": {},
   "outputs": [
    {
     "name": "stdout",
     "output_type": "stream",
     "text": [
      "Computation time for classifying the data for Erosion + Fourier Transform (Spatial-Spectral Processing) + MLP : 11.540127 minutes\n",
      "Computation time for classifying the data for Erosion + Fourier Transform (Spatial-Spectral Processing) + Sobel Edge detector + MLP : 11.745110 minutes\n",
      "Computation time for classifying the data for Erosion + Fourier Transform (Spatial-Spectral Processing) + Canny Edge detector + MLP : 12.359671 minutes\n",
      "Computation time for classifying the data for Erosion + Fourier Transform (Spatial-Spectral Processing) + Local Binary pattern + MLP : 11.628079 minutes\n",
      "Computation time for classifying the data for Erosion + Fourier Transform (Spatial-Spectral Processing) + Peak Local Max + MLP : 11.616814 minutes\n"
     ]
    }
   ],
   "source": [
    "print(\"Computation time for classifying the data for Erosion + Fourier Transform (Spatial-Spectral Processing) + MLP : %f minutes\" %((stop-start)/60))\n",
    "print(\"Computation time for classifying the data for Erosion + Fourier Transform (Spatial-Spectral Processing) + Sobel Edge detector + MLP : %f minutes\" %((stop1-start1)/60))\n",
    "print(\"Computation time for classifying the data for Erosion + Fourier Transform (Spatial-Spectral Processing) + Canny Edge detector + MLP : %f minutes\" %((stop2-start2)/60))\n",
    "print(\"Computation time for classifying the data for Erosion + Fourier Transform (Spatial-Spectral Processing) + Local Binary pattern + MLP : %f minutes\" %((stop3-start3)/60))\n",
    "print(\"Computation time for classifying the data for Erosion + Fourier Transform (Spatial-Spectral Processing) + Peak Local Max + MLP : %f minutes\" %((stop4-start4)/60))"
   ]
  }
 ],
 "metadata": {
  "kernelspec": {
   "display_name": "Python 3",
   "language": "python",
   "name": "python3"
  },
  "language_info": {
   "codemirror_mode": {
    "name": "ipython",
    "version": 3
   },
   "file_extension": ".py",
   "mimetype": "text/x-python",
   "name": "python",
   "nbconvert_exporter": "python",
   "pygments_lexer": "ipython3",
   "version": "3.6.3"
  }
 },
 "nbformat": 4,
 "nbformat_minor": 2
}
