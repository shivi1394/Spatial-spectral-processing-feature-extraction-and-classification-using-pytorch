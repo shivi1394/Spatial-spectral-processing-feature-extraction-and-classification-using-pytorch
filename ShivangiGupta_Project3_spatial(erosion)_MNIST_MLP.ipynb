{
 "cells": [
  {
   "cell_type": "code",
   "execution_count": 1,
   "metadata": {
    "collapsed": true
   },
   "outputs": [],
   "source": [
    "import torch\n",
    "import torchvision\n",
    "import torchvision.datasets as datasets\n",
    "import torchvision.transforms as transforms\n",
    "import torch.nn as nn\n",
    "import torch.nn.functional as F\n",
    "import torch.optim as optim    \n",
    "import matplotlib \n",
    "import matplotlib.pyplot as plt\n",
    "import numpy as np\n",
    "import pandas as pd\n",
    "import random\n",
    "import math\n",
    "import numpy\n",
    "from PIL import Image\n",
    "from pylab import *\n",
    "from skimage.feature import hog\n",
    "from skimage import feature\n",
    "from sklearn import datasets\n",
    "import cv2\n",
    "from skimage import exposure\n",
    "import timeit\n",
    "from skimage import transform as tf\n",
    "from scipy import ndimage\n",
    "from sklearn.decomposition import PCA\n",
    "from scipy import fftpack"
   ]
  },
  {
   "cell_type": "code",
   "execution_count": 2,
   "metadata": {
    "collapsed": true
   },
   "outputs": [],
   "source": [
    "#Multi-Layer Perceptron Model\n",
    "class MLP(nn.Module):\n",
    "    def __init__(self):\n",
    "        super(MLP, self).__init__()\n",
    "        self.fc1 = nn.Linear(28*28, 500)\n",
    "        self.fc2 = nn.Linear(500, 256)\n",
    "        self.fc3 = nn.Linear(256, 10)\n",
    "        \n",
    "\n",
    "    def forward(self, x):\n",
    "        x = x.view(-1, 28*28)\n",
    "        x = F.relu(self.fc1(x))\n",
    "        x = F.relu(self.fc2(x))\n",
    "        x = self.fc3(x)\n",
    "        return x\n",
    "\n",
    "MLP_network = MLP()"
   ]
  },
  {
   "cell_type": "code",
   "execution_count": 3,
   "metadata": {
    "collapsed": true
   },
   "outputs": [],
   "source": [
    "criterion = nn.CrossEntropyLoss() \n",
    "optimizer = optim.Adam(MLP_network.parameters(), lr=0.001, betas=(0.9,0.99), eps=1e-08, weight_decay=0.001)  "
   ]
  },
  {
   "cell_type": "code",
   "execution_count": 4,
   "metadata": {
    "collapsed": true
   },
   "outputs": [],
   "source": [
    "# transforms to apply to the mnist data\n",
    "trans = transforms.Compose([transforms.ToTensor(), transforms.Normalize((0.1307,), (0.3081,))])\n",
    "\n",
    "# MNIST dataset\n",
    "train_dataset = torchvision.datasets.MNIST(root='./data', train=True, download=True, transform=trans)\n",
    "test_dataset = torchvision.datasets.MNIST(root='./data', train=False, download=True, transform=trans)\n",
    "classes = (0, 1, 2, 3, 4, 5, 6, 7, 8, 9)"
   ]
  },
  {
   "cell_type": "code",
   "execution_count": 5,
   "metadata": {},
   "outputs": [
    {
     "data": {
      "image/png": "[encoded data removed]",
      "text/plain": [
       "<Figure size 720x720 with 9 Axes>"
      ]
     },
     "metadata": {
      "needs_background": "light"
     },
     "output_type": "display_data"
    }
   ],
   "source": [
    "fig = plt.figure(figsize=(10,10));\n",
    "columns = 4;\n",
    "rows = 5;\n",
    "for i in range(1, 10):\n",
    "    fig.add_subplot(rows, columns, i)\n",
    "    fig.tight_layout()\n",
    "    plt.imshow(train_dataset.train_data[i].numpy(), cmap='gray')\n",
    "    plt.title('Label : %i' % train_dataset.train_labels[i])\n",
    "plt.show()"
   ]
  },
  {
   "cell_type": "code",
   "execution_count": 6,
   "metadata": {
    "collapsed": true
   },
   "outputs": [],
   "source": [
    "#Spatial Processing of the Dataset\n",
    "train_dataset.train_data = train_dataset.train_data.type(torch.FloatTensor)\n",
    "test_dataset.test_data = test_dataset.test_data.type(torch.FloatTensor)\n",
    "for i in range(0,len(train_dataset)):\n",
    "    image = ndimage.binary_erosion(train_dataset.train_data[i].numpy()).astype(train_dataset.train_data[i].numpy().dtype)\n",
    "    train_dataset.train_data[i] = torch.from_numpy(image)\n",
    "    \n",
    "for i in range(0,len(test_dataset)):\n",
    "    image = ndimage.binary_erosion(test_dataset.test_data[i].numpy()).astype(test_dataset.test_data[i].numpy().dtype)\n",
    "    test_dataset.test_data[i] = torch.from_numpy(image)"
   ]
  },
  {
   "cell_type": "code",
   "execution_count": 7,
   "metadata": {},
   "outputs": [
    {
     "data": {
      "image/png": "[encoded data removed]",
      "text/plain": [
       "<Figure size 720x720 with 9 Axes>"
      ]
     },
     "metadata": {
      "needs_background": "light"
     },
     "output_type": "display_data"
    }
   ],
   "source": [
    "fig = plt.figure(figsize=(10,10));\n",
    "columns = 4;\n",
    "rows = 5;\n",
    "for i in range(1, 10):\n",
    "    fig.add_subplot(rows, columns, i)\n",
    "    fig.tight_layout()\n",
    "    plt.imshow(train_dataset.train_data[i].numpy(), cmap='gray')\n",
    "    plt.title('Label : %i' % train_dataset.train_labels[i])\n",
    "plt.show()"
   ]
  },
  {
   "cell_type": "code",
   "execution_count": 8,
   "metadata": {
    "collapsed": true
   },
   "outputs": [],
   "source": [
    "train_loader = torch.utils.data.DataLoader(train_dataset, batch_size=10, shuffle=True, num_workers=2)\n",
    "test_loader = torch.utils.data.DataLoader(dataset=test_dataset, batch_size=10, shuffle=False, num_workers=2)"
   ]
  },
  {
   "cell_type": "code",
   "execution_count": 9,
   "metadata": {},
   "outputs": [
    {
     "name": "stdout",
     "output_type": "stream",
     "text": [
      "----------------------------------------------------\n",
      "Epoch 1  | Loss : 1.5736\n",
      "----------------------------------------------------\n",
      "Epoch 2  | Loss : 1.4611\n",
      "----------------------------------------------------\n",
      "Epoch 3  | Loss : 1.4272\n",
      "----------------------------------------------------\n",
      "Epoch 4  | Loss : 1.4105\n",
      "----------------------------------------------------\n",
      "Epoch 5  | Loss : 1.4003\n",
      "----------------------------------------------------\n",
      "Epoch 6  | Loss : 1.3934\n",
      "----------------------------------------------------\n",
      "Epoch 7  | Loss : 1.3904\n",
      "----------------------------------------------------\n",
      "Epoch 8  | Loss : 1.3861\n",
      "----------------------------------------------------\n",
      "Epoch 9  | Loss : 1.3848\n",
      "----------------------------------------------------\n",
      "Epoch 10  | Loss : 1.3824\n",
      "----------------------------------------------------\n",
      "Epoch 11  | Loss : 1.3798\n",
      "----------------------------------------------------\n",
      "Epoch 12  | Loss : 1.3787\n",
      "----------------------------------------------------\n",
      "Epoch 13  | Loss : 1.3788\n",
      "----------------------------------------------------\n",
      "Epoch 14  | Loss : 1.3778\n",
      "----------------------------------------------------\n",
      "Epoch 15  | Loss : 1.3748\n",
      "----------------------------------------------------\n",
      "Epoch 16  | Loss : 1.3741\n",
      "----------------------------------------------------\n",
      "Epoch 17  | Loss : 1.3738\n",
      "----------------------------------------------------\n",
      "Epoch 18  | Loss : 1.3736\n",
      "----------------------------------------------------\n",
      "Epoch 19  | Loss : 1.3754\n",
      "----------------------------------------------------\n",
      "Epoch 20  | Loss : 1.3737\n",
      "----------------------------------------------------\n",
      "Finished Training\n"
     ]
    }
   ],
   "source": [
    "num_epochs = 20\n",
    "total_step = len(train_loader)\n",
    "Loss = []\n",
    "print('----------------------------------------------------')\n",
    "start= timeit.default_timer()\n",
    "for epoch in range(num_epochs):  # loop over the dataset multiple times\n",
    "\n",
    "    running_loss = 0.0\n",
    "    for i, data in enumerate(train_loader, 0):\n",
    "        # get the inputs\n",
    "        inputs, labels = data\n",
    "\n",
    "        # zero the parameter gradients\n",
    "        optimizer.zero_grad()\n",
    "\n",
    "        # forward + backward + optimize\n",
    "        outputs = MLP_network(inputs)\n",
    "        loss = criterion(outputs, labels)\n",
    "        loss.backward()\n",
    "        optimizer.step()\n",
    "\n",
    "        # print statistics\n",
    "        running_loss += loss.item()\n",
    "        \n",
    "    print('Epoch {}  | Loss : {:.4f}'.format(epoch+1, running_loss / total_step))        \n",
    "    print('----------------------------------------------------')\n",
    "    Loss.append(running_loss / total_step)\n",
    "print('Finished Training')\n",
    "stop = timeit.default_timer()"
   ]
  },
  {
   "cell_type": "code",
   "execution_count": 10,
   "metadata": {},
   "outputs": [
    {
     "name": "stdout",
     "output_type": "stream",
     "text": [
      "Accuracy of the network on the Test images: 49 %\n"
     ]
    }
   ],
   "source": [
    "correct = 0\n",
    "total = 0\n",
    "with torch.no_grad():\n",
    "    for data in test_loader:\n",
    "        images, labels = data\n",
    "        outputs = MLP_network(images)\n",
    "        _, predicted = torch.max(outputs.data, 1)\n",
    "        total += labels.size(0)\n",
    "        correct += (predicted == labels).sum().item()\n",
    "\n",
    "print('Accuracy of the network on the Test images: %d %%' % (100 * correct / total))"
   ]
  },
  {
   "cell_type": "code",
   "execution_count": 11,
   "metadata": {},
   "outputs": [
    {
     "name": "stdout",
     "output_type": "stream",
     "text": [
      "Accuracy of class 0 : 35 %\n",
      "Accuracy of class 1 : 73 %\n",
      "Accuracy of class 2 : 40 %\n",
      "Accuracy of class 3 : 39 %\n",
      "Accuracy of class 4 : 54 %\n",
      "Accuracy of class 5 : 20 %\n",
      "Accuracy of class 6 : 85 %\n",
      "Accuracy of class 7 :  0 %\n",
      "Accuracy of class 8 : 46 %\n",
      "Accuracy of class 9 : 89 %\n"
     ]
    }
   ],
   "source": [
    "class_correct = list(0. for i in range(10))\n",
    "class_total = list(0. for i in range(10))\n",
    "with torch.no_grad():\n",
    "    for data in test_loader:\n",
    "        images, labels = data\n",
    "        outputs = MLP_network(images)\n",
    "        _, predicted = torch.max(outputs, 1)\n",
    "        c = (predicted == labels).squeeze()\n",
    "        for i in range(10):\n",
    "            label = labels[i]\n",
    "            class_correct[label] += c[i].item()\n",
    "            class_total[label] += 1\n",
    "\n",
    "for i in range(10):\n",
    "    print('Accuracy of class %s : %2d %%' % (\n",
    "        classes[i], 100 * class_correct[i] / class_total[i]))"
   ]
  },
  {
   "cell_type": "code",
   "execution_count": 12,
   "metadata": {
    "collapsed": true
   },
   "outputs": [],
   "source": [
    "#Applying Different Feature extraction Methods\n",
    "##SOBEL EDGE Detector##\n",
    "train_sobel = train_dataset\n",
    "test_sobel = test_dataset\n",
    "for i in range(0,len(train_sobel)):\n",
    "    image = ndimage.sobel(train_sobel.train_data[i].numpy()) \n",
    "    train_sobel.train_data[i] = torch.from_numpy(image)\n",
    "    \n",
    "for i in range(0,len(test_sobel)):\n",
    "    image = ndimage.sobel(test_sobel.test_data[i].numpy()) \n",
    "    test_sobel.test_data[i] = torch.from_numpy(image)   "
   ]
  },
  {
   "cell_type": "code",
   "execution_count": 13,
   "metadata": {},
   "outputs": [
    {
     "data": {
      "image/png": "[encoded data removed]",
      "text/plain": [
       "<Figure size 720x720 with 9 Axes>"
      ]
     },
     "metadata": {
      "needs_background": "light"
     },
     "output_type": "display_data"
    }
   ],
   "source": [
    "fig = plt.figure(figsize=(10,10));\n",
    "columns = 4;\n",
    "rows = 5;\n",
    "for i in range(1, 10):\n",
    "    fig.add_subplot(rows, columns, i)\n",
    "    fig.tight_layout()\n",
    "    plt.imshow(train_sobel.train_data[i].numpy(), cmap='gray')\n",
    "    plt.title('Label : %i' % train_sobel.train_labels[i])\n",
    "plt.show()"
   ]
  },
  {
   "cell_type": "code",
   "execution_count": 14,
   "metadata": {
    "collapsed": true
   },
   "outputs": [],
   "source": [
    "train_sobel_loader = torch.utils.data.DataLoader(train_sobel, batch_size=10, shuffle=True, num_workers=2)\n",
    "test_sobel_loader = torch.utils.data.DataLoader(dataset=test_sobel, batch_size=10, shuffle=False, num_workers=2)"
   ]
  },
  {
   "cell_type": "code",
   "execution_count": 15,
   "metadata": {},
   "outputs": [
    {
     "name": "stdout",
     "output_type": "stream",
     "text": [
      "----------------------------------------------------\n",
      "Epoch 1  | Loss : 1.3578\n",
      "----------------------------------------------------\n",
      "Epoch 2  | Loss : 1.2565\n",
      "----------------------------------------------------\n",
      "Epoch 3  | Loss : 1.2270\n",
      "----------------------------------------------------\n",
      "Epoch 4  | Loss : 1.2141\n",
      "----------------------------------------------------\n",
      "Epoch 5  | Loss : 1.2058\n",
      "----------------------------------------------------\n",
      "Epoch 6  | Loss : 1.1966\n",
      "----------------------------------------------------\n",
      "Epoch 7  | Loss : 1.1916\n",
      "----------------------------------------------------\n",
      "Epoch 8  | Loss : 1.1893\n",
      "----------------------------------------------------\n",
      "Epoch 9  | Loss : 1.1860\n",
      "----------------------------------------------------\n",
      "Epoch 10  | Loss : 1.1853\n",
      "----------------------------------------------------\n",
      "Epoch 11  | Loss : 1.1818\n",
      "----------------------------------------------------\n",
      "Epoch 12  | Loss : 1.1802\n",
      "----------------------------------------------------\n",
      "Epoch 13  | Loss : 1.1766\n",
      "----------------------------------------------------\n",
      "Epoch 14  | Loss : 1.1752\n",
      "----------------------------------------------------\n",
      "Epoch 15  | Loss : 1.1740\n",
      "----------------------------------------------------\n",
      "Epoch 16  | Loss : 1.1750\n",
      "----------------------------------------------------\n",
      "Epoch 17  | Loss : 1.1743\n",
      "----------------------------------------------------\n",
      "Epoch 18  | Loss : 1.1737\n",
      "----------------------------------------------------\n",
      "Epoch 19  | Loss : 1.1726\n",
      "----------------------------------------------------\n",
      "Epoch 20  | Loss : 1.1714\n",
      "----------------------------------------------------\n",
      "Finished Training\n"
     ]
    }
   ],
   "source": [
    "num_epochs = 20\n",
    "total_step = len(train_sobel_loader)\n",
    "Loss_1 = []\n",
    "print('----------------------------------------------------')\n",
    "start1 = timeit.default_timer()\n",
    "for epoch in range(num_epochs):  # loop over the dataset multiple times\n",
    "\n",
    "    running_loss = 0.0\n",
    "    for i, data in enumerate(train_sobel_loader, 0):\n",
    "        # get the inputs\n",
    "        inputs, labels = data\n",
    "\n",
    "        # zero the parameter gradients\n",
    "        optimizer.zero_grad()\n",
    "\n",
    "        # forward + backward + optimize\n",
    "        outputs = MLP_network(inputs)\n",
    "        loss = criterion(outputs, labels)\n",
    "        loss.backward()\n",
    "        optimizer.step()\n",
    "\n",
    "        # print statistics\n",
    "        running_loss += loss.item()\n",
    "        \n",
    "    print('Epoch {}  | Loss : {:.4f}'.format(epoch+1, running_loss / total_step))        \n",
    "    print('----------------------------------------------------')\n",
    "    Loss_1.append(running_loss / total_step)\n",
    "print('Finished Training')\n",
    "stop1 = timeit.default_timer()"
   ]
  },
  {
   "cell_type": "code",
   "execution_count": 16,
   "metadata": {},
   "outputs": [
    {
     "name": "stdout",
     "output_type": "stream",
     "text": [
      "Accuracy of the network on the Test images: 60 %\n"
     ]
    }
   ],
   "source": [
    "correct = 0\n",
    "total = 0\n",
    "with torch.no_grad():\n",
    "    for data in test_sobel_loader:\n",
    "        images, labels = data\n",
    "        outputs = MLP_network(images)\n",
    "        _, predicted = torch.max(outputs.data, 1)\n",
    "        total += labels.size(0)\n",
    "        correct += (predicted == labels).sum().item()\n",
    "\n",
    "print('Accuracy of the network on the Test images: %d %%' % (100 * correct / total))"
   ]
  },
  {
   "cell_type": "code",
   "execution_count": 17,
   "metadata": {},
   "outputs": [
    {
     "name": "stdout",
     "output_type": "stream",
     "text": [
      "Accuracy of class 0 : 58 %\n",
      "Accuracy of class 1 : 92 %\n",
      "Accuracy of class 2 : 47 %\n",
      "Accuracy of class 3 : 54 %\n",
      "Accuracy of class 4 : 65 %\n",
      "Accuracy of class 5 : 36 %\n",
      "Accuracy of class 6 : 90 %\n",
      "Accuracy of class 7 : 73 %\n",
      "Accuracy of class 8 : 29 %\n",
      "Accuracy of class 9 : 55 %\n"
     ]
    }
   ],
   "source": [
    "class_correct = list(0. for i in range(10))\n",
    "class_total = list(0. for i in range(10))\n",
    "with torch.no_grad():\n",
    "    for data in test_sobel_loader:\n",
    "        images, labels = data\n",
    "        outputs = MLP_network(images)\n",
    "        _, predicted = torch.max(outputs, 1)\n",
    "        c = (predicted == labels).squeeze()\n",
    "        for i in range(10):\n",
    "            label = labels[i]\n",
    "            class_correct[label] += c[i].item()\n",
    "            class_total[label] += 1\n",
    "\n",
    "for i in range(10):\n",
    "    print('Accuracy of class %s : %2d %%' % (\n",
    "        classes[i], 100 * class_correct[i] / class_total[i]))"
   ]
  },
  {
   "cell_type": "code",
   "execution_count": 18,
   "metadata": {
    "collapsed": true
   },
   "outputs": [],
   "source": [
    "##CANNY EDGE DETECTOR##\n",
    "train_canny  = train_dataset\n",
    "test_canny = test_dataset\n",
    "\n",
    "for i in range(0,len(train_canny)):\n",
    "    image = feature.canny(train_canny.train_data[i].numpy()) * 1\n",
    "    train_canny.train_data[i] = torch.from_numpy(image)\n",
    "    \n",
    "for i in range(0,len(test_canny)):\n",
    "    image = feature.canny(test_canny.test_data[i].numpy()) * 1\n",
    "    test_canny.test_data[i] = torch.from_numpy(image)"
   ]
  },
  {
   "cell_type": "code",
   "execution_count": 19,
   "metadata": {},
   "outputs": [
    {
     "data": {
      "image/png": "[encoded data removed]",
      "text/plain": [
       "<Figure size 720x720 with 9 Axes>"
      ]
     },
     "metadata": {
      "needs_background": "light"
     },
     "output_type": "display_data"
    }
   ],
   "source": [
    "fig = plt.figure(figsize=(10,10));\n",
    "columns = 4;\n",
    "rows = 5;\n",
    "for i in range(1, 10):\n",
    "    fig.add_subplot(rows, columns, i)\n",
    "    fig.tight_layout()\n",
    "    plt.imshow(train_canny.train_data[i].numpy(), cmap='gray')\n",
    "    plt.title('Label : %i' % train_canny.train_labels[i])\n",
    "plt.show()"
   ]
  },
  {
   "cell_type": "code",
   "execution_count": 20,
   "metadata": {
    "collapsed": true
   },
   "outputs": [],
   "source": [
    "train_canny_loader = torch.utils.data.DataLoader(train_canny, batch_size=10, shuffle=True, num_workers=2)\n",
    "test_canny_loader = torch.utils.data.DataLoader(dataset=test_canny, batch_size=10, shuffle=False, num_workers=2)"
   ]
  },
  {
   "cell_type": "code",
   "execution_count": 21,
   "metadata": {},
   "outputs": [
    {
     "name": "stdout",
     "output_type": "stream",
     "text": [
      "----------------------------------------------------\n",
      "Epoch 1  | Loss : 1.4160\n",
      "----------------------------------------------------\n",
      "Epoch 2  | Loss : 1.3669\n",
      "----------------------------------------------------\n",
      "Epoch 3  | Loss : 1.3527\n",
      "----------------------------------------------------\n",
      "Epoch 4  | Loss : 1.3444\n",
      "----------------------------------------------------\n",
      "Epoch 5  | Loss : 1.3377\n",
      "----------------------------------------------------\n",
      "Epoch 6  | Loss : 1.3324\n",
      "----------------------------------------------------\n",
      "Epoch 7  | Loss : 1.3302\n",
      "----------------------------------------------------\n",
      "Epoch 8  | Loss : 1.3248\n",
      "----------------------------------------------------\n",
      "Epoch 9  | Loss : 1.3213\n",
      "----------------------------------------------------\n",
      "Epoch 10  | Loss : 1.3204\n",
      "----------------------------------------------------\n",
      "Epoch 11  | Loss : 1.3202\n",
      "----------------------------------------------------\n",
      "Epoch 12  | Loss : 1.3166\n",
      "----------------------------------------------------\n",
      "Epoch 13  | Loss : 1.3147\n",
      "----------------------------------------------------\n",
      "Epoch 14  | Loss : 1.3145\n",
      "----------------------------------------------------\n",
      "Epoch 15  | Loss : 1.3121\n",
      "----------------------------------------------------\n",
      "Epoch 16  | Loss : 1.3098\n",
      "----------------------------------------------------\n",
      "Epoch 17  | Loss : 1.3088\n",
      "----------------------------------------------------\n",
      "Epoch 18  | Loss : 1.3088\n",
      "----------------------------------------------------\n",
      "Epoch 19  | Loss : 1.3087\n",
      "----------------------------------------------------\n",
      "Epoch 20  | Loss : 1.3068\n",
      "----------------------------------------------------\n",
      "Finished Training\n"
     ]
    }
   ],
   "source": [
    "num_epochs = 20\n",
    "total_step = len(train_canny_loader)\n",
    "Loss_2 = []\n",
    "print('----------------------------------------------------')\n",
    "start2 = timeit.default_timer()\n",
    "for epoch in range(num_epochs):  # loop over the dataset multiple times\n",
    "\n",
    "    running_loss = 0.0\n",
    "    for i, data in enumerate(train_canny_loader, 0):\n",
    "        # get the inputs\n",
    "        inputs, labels = data\n",
    "\n",
    "        # zero the parameter gradients\n",
    "        optimizer.zero_grad()\n",
    "\n",
    "        # forward + backward + optimize\n",
    "        outputs = MLP_network(inputs)\n",
    "        loss = criterion(outputs, labels)\n",
    "        loss.backward()\n",
    "        optimizer.step()\n",
    "\n",
    "        # print statistics\n",
    "        running_loss += loss.item()\n",
    "        \n",
    "    print('Epoch {}  | Loss : {:.4f}'.format(epoch+1, running_loss / total_step))        \n",
    "    print('----------------------------------------------------')\n",
    "    Loss_2.append(running_loss / total_step)\n",
    "print('Finished Training')\n",
    "stop2 = timeit.default_timer()"
   ]
  },
  {
   "cell_type": "code",
   "execution_count": 22,
   "metadata": {},
   "outputs": [
    {
     "name": "stdout",
     "output_type": "stream",
     "text": [
      "Accuracy of the network on the Test images: 54 %\n"
     ]
    }
   ],
   "source": [
    "correct = 0\n",
    "total = 0\n",
    "with torch.no_grad():\n",
    "    for data in test_canny_loader:\n",
    "        images, labels = data\n",
    "        outputs = MLP_network(images)\n",
    "        _, predicted = torch.max(outputs.data, 1)\n",
    "        total += labels.size(0)\n",
    "        correct += (predicted == labels).sum().item()\n",
    "\n",
    "print('Accuracy of the network on the Test images: %d %%' % (100 * correct / total))"
   ]
  },
  {
   "cell_type": "code",
   "execution_count": 23,
   "metadata": {},
   "outputs": [
    {
     "name": "stdout",
     "output_type": "stream",
     "text": [
      "Accuracy of class 0 : 51 %\n",
      "Accuracy of class 1 : 86 %\n",
      "Accuracy of class 2 : 43 %\n",
      "Accuracy of class 3 : 41 %\n",
      "Accuracy of class 4 : 36 %\n",
      "Accuracy of class 5 : 50 %\n",
      "Accuracy of class 6 : 85 %\n",
      "Accuracy of class 7 : 69 %\n",
      "Accuracy of class 8 : 27 %\n",
      "Accuracy of class 9 : 49 %\n"
     ]
    }
   ],
   "source": [
    "class_correct = list(0. for i in range(10))\n",
    "class_total = list(0. for i in range(10))\n",
    "with torch.no_grad():\n",
    "    for data in test_canny_loader:\n",
    "        images, labels = data\n",
    "        outputs = MLP_network(images)\n",
    "        _, predicted = torch.max(outputs, 1)\n",
    "        c = (predicted == labels).squeeze()\n",
    "        for i in range(10):\n",
    "            label = labels[i]\n",
    "            class_correct[label] += c[i].item()\n",
    "            class_total[label] += 1\n",
    "\n",
    "for i in range(10):\n",
    "    print('Accuracy of class %s : %2d %%' % (\n",
    "        classes[i], 100 * class_correct[i] / class_total[i]))"
   ]
  },
  {
   "cell_type": "code",
   "execution_count": 24,
   "metadata": {
    "collapsed": true
   },
   "outputs": [],
   "source": [
    "##LOCAL BINARY PATTERN##\n",
    "train_lbp = train_dataset\n",
    "test_lbp = test_dataset\n",
    "\n",
    "for i in range(0,len(train_lbp)):\n",
    "    image = feature.local_binary_pattern(train_lbp.train_data[i].numpy(), P = 100, R = 50)\n",
    "    train_lbp.train_data[i] = torch.from_numpy(image)\n",
    "    \n",
    "for i in range(0,len(test_lbp)):\n",
    "    image = feature.local_binary_pattern(test_lbp.test_data[i].numpy(), P = 100, R = 50)\n",
    "    test_lbp.test_data[i] = torch.from_numpy(image)"
   ]
  },
  {
   "cell_type": "code",
   "execution_count": 25,
   "metadata": {},
   "outputs": [
    {
     "data": {
      "image/png": "[encoded data removed]",
      "text/plain": [
       "<Figure size 720x720 with 9 Axes>"
      ]
     },
     "metadata": {
      "needs_background": "light"
     },
     "output_type": "display_data"
    }
   ],
   "source": [
    "fig = plt.figure(figsize=(10,10));\n",
    "columns = 4;\n",
    "rows = 5;\n",
    "for i in range(1, 10):\n",
    "    fig.add_subplot(rows, columns, i)\n",
    "    fig.tight_layout()\n",
    "    plt.imshow(train_lbp.train_data[i].numpy(), cmap='gray')\n",
    "    plt.title('Label : %i' % train_lbp.train_labels[i])\n",
    "plt.show()"
   ]
  },
  {
   "cell_type": "code",
   "execution_count": 26,
   "metadata": {
    "collapsed": true
   },
   "outputs": [],
   "source": [
    "train_lbp_loader = torch.utils.data.DataLoader(train_lbp, batch_size=10, shuffle=True, num_workers=2)\n",
    "test_lbp_loader = torch.utils.data.DataLoader(dataset=test_lbp, batch_size=10, shuffle=False, num_workers=2)"
   ]
  },
  {
   "cell_type": "code",
   "execution_count": 27,
   "metadata": {},
   "outputs": [
    {
     "name": "stdout",
     "output_type": "stream",
     "text": [
      "----------------------------------------------------\n",
      "Epoch 1  | Loss : 1.5890\n",
      "----------------------------------------------------\n",
      "Epoch 2  | Loss : 1.4361\n",
      "----------------------------------------------------\n",
      "Epoch 3  | Loss : 1.4131\n",
      "----------------------------------------------------\n",
      "Epoch 4  | Loss : 1.3988\n",
      "----------------------------------------------------\n",
      "Epoch 5  | Loss : 1.3897\n",
      "----------------------------------------------------\n",
      "Epoch 6  | Loss : 1.3807\n",
      "----------------------------------------------------\n",
      "Epoch 7  | Loss : 1.3811\n",
      "----------------------------------------------------\n",
      "Epoch 8  | Loss : 1.3763\n",
      "----------------------------------------------------\n",
      "Epoch 9  | Loss : 1.3696\n",
      "----------------------------------------------------\n",
      "Epoch 10  | Loss : 1.3666\n",
      "----------------------------------------------------\n",
      "Epoch 11  | Loss : 1.3650\n",
      "----------------------------------------------------\n",
      "Epoch 12  | Loss : 1.3619\n",
      "----------------------------------------------------\n",
      "Epoch 13  | Loss : 1.3590\n",
      "----------------------------------------------------\n",
      "Epoch 14  | Loss : 1.3571\n",
      "----------------------------------------------------\n",
      "Epoch 15  | Loss : 1.3540\n",
      "----------------------------------------------------\n",
      "Epoch 16  | Loss : 1.3547\n",
      "----------------------------------------------------\n",
      "Epoch 17  | Loss : 1.3535\n",
      "----------------------------------------------------\n",
      "Epoch 18  | Loss : 1.3531\n",
      "----------------------------------------------------\n",
      "Epoch 19  | Loss : 1.3514\n",
      "----------------------------------------------------\n",
      "Epoch 20  | Loss : 1.3517\n",
      "----------------------------------------------------\n",
      "Finished Training\n"
     ]
    }
   ],
   "source": [
    "num_epochs = 20\n",
    "total_step = len(train_lbp_loader)\n",
    "Loss_3 = []\n",
    "print('----------------------------------------------------')\n",
    "start3 = timeit.default_timer()\n",
    "for epoch in range(num_epochs):  # loop over the dataset multiple times\n",
    "\n",
    "    running_loss = 0.0\n",
    "    for i, data in enumerate(train_lbp_loader, 0):\n",
    "        # get the inputs\n",
    "        inputs, labels = data\n",
    "\n",
    "        # zero the parameter gradients\n",
    "        optimizer.zero_grad()\n",
    "\n",
    "        # forward + backward + optimize\n",
    "        outputs = MLP_network(inputs)\n",
    "        loss = criterion(outputs, labels)\n",
    "        loss.backward()\n",
    "        optimizer.step()\n",
    "\n",
    "        # print statistics\n",
    "        running_loss += loss.item()\n",
    "        \n",
    "    print('Epoch {}  | Loss : {:.4f}'.format(epoch+1, running_loss / total_step))        \n",
    "    print('----------------------------------------------------')\n",
    "    Loss_3.append(running_loss / total_step)\n",
    "print('Finished Training')\n",
    "stop3 = timeit.default_timer()"
   ]
  },
  {
   "cell_type": "code",
   "execution_count": 28,
   "metadata": {},
   "outputs": [
    {
     "name": "stdout",
     "output_type": "stream",
     "text": [
      "Accuracy of the network on the Test images: 52 %\n"
     ]
    }
   ],
   "source": [
    "correct = 0\n",
    "total = 0\n",
    "with torch.no_grad():\n",
    "    for data in test_lbp_loader:\n",
    "        images, labels = data\n",
    "        outputs = MLP_network(images)\n",
    "        _, predicted = torch.max(outputs.data, 1)\n",
    "        total += labels.size(0)\n",
    "        correct += (predicted == labels).sum().item()\n",
    "\n",
    "print('Accuracy of the network on the Test images: %d %%' % (100 * correct / total))"
   ]
  },
  {
   "cell_type": "code",
   "execution_count": 29,
   "metadata": {},
   "outputs": [
    {
     "name": "stdout",
     "output_type": "stream",
     "text": [
      "Accuracy of class 0 : 54 %\n",
      "Accuracy of class 1 : 81 %\n",
      "Accuracy of class 2 : 36 %\n",
      "Accuracy of class 3 : 38 %\n",
      "Accuracy of class 4 : 41 %\n",
      "Accuracy of class 5 : 28 %\n",
      "Accuracy of class 6 : 78 %\n",
      "Accuracy of class 7 : 70 %\n",
      "Accuracy of class 8 : 38 %\n",
      "Accuracy of class 9 : 48 %\n"
     ]
    }
   ],
   "source": [
    "class_correct = list(0. for i in range(10))\n",
    "class_total = list(0. for i in range(10))\n",
    "with torch.no_grad():\n",
    "    for data in test_lbp_loader:\n",
    "        images, labels = data\n",
    "        outputs = MLP_network(images)\n",
    "        _, predicted = torch.max(outputs, 1)\n",
    "        c = (predicted == labels).squeeze()\n",
    "        for i in range(10):\n",
    "            label = labels[i]\n",
    "            class_correct[label] += c[i].item()\n",
    "            class_total[label] += 1\n",
    "            \n",
    "for i in range(10):\n",
    "    print('Accuracy of class %s : %2d %%' % (\n",
    "        classes[i], 100 * class_correct[i] / class_total[i]))"
   ]
  },
  {
   "cell_type": "code",
   "execution_count": 30,
   "metadata": {
    "collapsed": true
   },
   "outputs": [],
   "source": [
    "##PEAK LOCAL MAXIMA##\n",
    "train_plm = train_dataset\n",
    "test_plm = test_dataset\n",
    "\n",
    "for i in range(0,len(train_plm)):\n",
    "    image = feature.peak_local_max(train_plm.train_data[i].numpy(), indices = False) * 1\n",
    "    train_plm.train_data[i] = torch.from_numpy(image)\n",
    "    \n",
    "for i in range(0,len(test_plm)):\n",
    "    image = feature.peak_local_max(test_plm.test_data[i].numpy(), indices = False) * 1\n",
    "    test_plm.test_data[i] = torch.from_numpy(image)"
   ]
  },
  {
   "cell_type": "code",
   "execution_count": 31,
   "metadata": {},
   "outputs": [
    {
     "data": {
      "image/png": "[encoded data removed]",
      "text/plain": [
       "<Figure size 720x720 with 9 Axes>"
      ]
     },
     "metadata": {
      "needs_background": "light"
     },
     "output_type": "display_data"
    }
   ],
   "source": [
    "fig = plt.figure(figsize=(10,10));\n",
    "columns = 4;\n",
    "rows = 5;\n",
    "for i in range(1, 10):\n",
    "    fig.add_subplot(rows, columns, i)\n",
    "    fig.tight_layout()\n",
    "    plt.imshow(train_plm.train_data[i].numpy(), cmap='gray')\n",
    "    plt.title('Label : %i' % train_plm.train_labels[i])\n",
    "plt.show()"
   ]
  },
  {
   "cell_type": "code",
   "execution_count": 32,
   "metadata": {
    "collapsed": true
   },
   "outputs": [],
   "source": [
    "train_plm_loader = torch.utils.data.DataLoader(train_plm, batch_size=10, shuffle=True, num_workers=2)\n",
    "test_plm_loader = torch.utils.data.DataLoader(dataset=test_plm, batch_size=10, shuffle=False, num_workers=2)"
   ]
  },
  {
   "cell_type": "code",
   "execution_count": 33,
   "metadata": {},
   "outputs": [
    {
     "name": "stdout",
     "output_type": "stream",
     "text": [
      "----------------------------------------------------\n",
      "Epoch 1  | Loss : 1.4501\n",
      "----------------------------------------------------\n",
      "Epoch 2  | Loss : 1.3795\n",
      "----------------------------------------------------\n",
      "Epoch 3  | Loss : 1.3635\n",
      "----------------------------------------------------\n",
      "Epoch 4  | Loss : 1.3566\n",
      "----------------------------------------------------\n",
      "Epoch 5  | Loss : 1.3480\n",
      "----------------------------------------------------\n",
      "Epoch 6  | Loss : 1.3436\n",
      "----------------------------------------------------\n",
      "Epoch 7  | Loss : 1.3380\n",
      "----------------------------------------------------\n",
      "Epoch 8  | Loss : 1.3352\n",
      "----------------------------------------------------\n",
      "Epoch 9  | Loss : 1.3290\n",
      "----------------------------------------------------\n",
      "Epoch 10  | Loss : 1.3287\n",
      "----------------------------------------------------\n",
      "Epoch 11  | Loss : 1.3235\n",
      "----------------------------------------------------\n",
      "Epoch 12  | Loss : 1.3216\n",
      "----------------------------------------------------\n",
      "Epoch 13  | Loss : 1.3192\n",
      "----------------------------------------------------\n",
      "Epoch 14  | Loss : 1.3179\n",
      "----------------------------------------------------\n",
      "Epoch 15  | Loss : 1.3152\n",
      "----------------------------------------------------\n",
      "Epoch 16  | Loss : 1.3168\n",
      "----------------------------------------------------\n",
      "Epoch 17  | Loss : 1.3149\n",
      "----------------------------------------------------\n",
      "Epoch 18  | Loss : 1.3133\n",
      "----------------------------------------------------\n",
      "Epoch 19  | Loss : 1.3104\n",
      "----------------------------------------------------\n",
      "Epoch 20  | Loss : 1.3087\n",
      "----------------------------------------------------\n",
      "Finished Training\n"
     ]
    }
   ],
   "source": [
    "num_epochs = 20\n",
    "total_step = len(train_plm_loader)\n",
    "Loss_4 = []\n",
    "print('----------------------------------------------------')\n",
    "start4 = timeit.default_timer()\n",
    "for epoch in range(num_epochs):  # loop over the dataset multiple times\n",
    "\n",
    "    running_loss = 0.0\n",
    "    for i, data in enumerate(train_plm_loader, 0):\n",
    "        # get the inputs\n",
    "        inputs, labels = data\n",
    "\n",
    "        # zero the parameter gradients\n",
    "        optimizer.zero_grad()\n",
    "\n",
    "        # forward + backward + optimize\n",
    "        outputs = MLP_network(inputs)\n",
    "        loss = criterion(outputs, labels)\n",
    "        loss.backward()\n",
    "        optimizer.step()\n",
    "\n",
    "        # print statistics\n",
    "        running_loss += loss.item()\n",
    "        \n",
    "    print('Epoch {}  | Loss : {:.4f}'.format(epoch+1, running_loss / total_step))        \n",
    "    print('----------------------------------------------------')\n",
    "    Loss_4.append(running_loss / total_step)\n",
    "print('Finished Training')\n",
    "stop4 = timeit.default_timer()"
   ]
  },
  {
   "cell_type": "code",
   "execution_count": 34,
   "metadata": {},
   "outputs": [
    {
     "name": "stdout",
     "output_type": "stream",
     "text": [
      "Accuracy of the network on the Test images: 54 %\n"
     ]
    }
   ],
   "source": [
    "correct = 0\n",
    "total = 0\n",
    "with torch.no_grad():\n",
    "    for data in test_plm_loader:\n",
    "        images, labels = data\n",
    "        outputs = MLP_network(images)\n",
    "        _, predicted = torch.max(outputs.data, 1)\n",
    "        total += labels.size(0)\n",
    "        correct += (predicted == labels).sum().item()\n",
    "\n",
    "print('Accuracy of the network on the Test images: %d %%' % (100 * correct / total))"
   ]
  },
  {
   "cell_type": "code",
   "execution_count": 35,
   "metadata": {},
   "outputs": [
    {
     "name": "stdout",
     "output_type": "stream",
     "text": [
      "Accuracy of class 0 : 42 %\n",
      "Accuracy of class 1 : 91 %\n",
      "Accuracy of class 2 : 42 %\n",
      "Accuracy of class 3 : 53 %\n",
      "Accuracy of class 4 : 30 %\n",
      "Accuracy of class 5 : 47 %\n",
      "Accuracy of class 6 : 87 %\n",
      "Accuracy of class 7 : 62 %\n",
      "Accuracy of class 8 : 32 %\n",
      "Accuracy of class 9 : 44 %\n"
     ]
    }
   ],
   "source": [
    "classes = (0, 1, 2, 3, 4, 5, 6, 7, 8, 9)\n",
    "class_correct = list(0. for i in range(10))\n",
    "class_total = list(0. for i in range(10))\n",
    "with torch.no_grad():\n",
    "    for data in test_plm_loader:\n",
    "        images, labels = data\n",
    "        outputs = MLP_network(images)\n",
    "        _, predicted = torch.max(outputs, 1)\n",
    "        c = (predicted == labels).squeeze()\n",
    "        for i in range(10):\n",
    "            label = labels[i]\n",
    "            class_correct[label] += c[i].item()\n",
    "            class_total[label] += 1\n",
    "            \n",
    "for i in range(10):\n",
    "    print('Accuracy of class %s : %2d %%' % (\n",
    "        classes[i], 100 * class_correct[i] / class_total[i]))"
   ]
  },
  {
   "cell_type": "code",
   "execution_count": 36,
   "metadata": {},
   "outputs": [
    {
     "data": {
      "image/png": "[encoded data removed]",
      "text/plain": [
       "<Figure size 432x288 with 1 Axes>"
      ]
     },
     "metadata": {
      "needs_background": "light"
     },
     "output_type": "display_data"
    }
   ],
   "source": [
    "plt.plot(Loss, 'k--', label = \"Erosion (Spatial Processing) + MLP\")\n",
    "plt.plot(Loss_1, 'r--', label = \"Erosion (Spatial Processing) + Sobel Edge detector + MLP\")\n",
    "plt.plot(Loss_2, 'b--', label = \"Erosion (Spatial Processing) + Canny Edge detector + MLP\")\n",
    "plt.plot(Loss_3, 'g--', label = \"Erosion (Spatial Processing) + Local Binary pattern + MLP\")\n",
    "plt.plot(Loss_4, 'y--', label = \"Erosion (Spatial Processing) + Peak Local Max + MLP\")\n",
    "plt.title(\"Loss vs Epoch for MNIST Dataset (using MLP)\")\n",
    "plt.xlim([0, num_epochs])\n",
    "plt.xlabel(\"Epoch\")\n",
    "plt.ylabel(\"Loss\")\n",
    "plt.legend(bbox_to_anchor=(1.05, 1), loc=2, borderaxespad=0.)\n",
    "plt.show()"
   ]
  },
  {
   "cell_type": "code",
   "execution_count": 37,
   "metadata": {},
   "outputs": [
    {
     "name": "stdout",
     "output_type": "stream",
     "text": [
      "Computation time for classifying the data for Erosion (Spatial Processing) + MLP : 12.760768 minutes\n",
      "Computation time for classifying the data for Erosion (Spatial Processing) + Sobel Edge detector + MLP : 11.695043 minutes\n",
      "Computation time for classifying the data for Erosion (Spatial Processing) + Canny Edge detector + MLP : 11.864870 minutes\n",
      "Computation time for classifying the data for Erosion (Spatial Processing) + Local Binary pattern + MLP : 11.710776 minutes\n",
      "Computation time for classifying the data for Erosion (Spatial Processing) + Peak Local Max + MLP : 11.240237 minutes\n"
     ]
    }
   ],
   "source": [
    "print(\"Computation time for classifying the data for Erosion (Spatial Processing) + MLP : %f minutes\" %((stop-start)/60))\n",
    "print(\"Computation time for classifying the data for Erosion (Spatial Processing) + Sobel Edge detector + MLP : %f minutes\" %((stop1-start1)/60))\n",
    "print(\"Computation time for classifying the data for Erosion (Spatial Processing) + Canny Edge detector + MLP : %f minutes\" %((stop2-start2)/60))\n",
    "print(\"Computation time for classifying the data for Erosion (Spatial Processing) + Local Binary pattern + MLP : %f minutes\" %((stop3-start3)/60))\n",
    "print(\"Computation time for classifying the data for Erosion (Spatial Processing) + Peak Local Max + MLP : %f minutes\" %((stop4-start4)/60))"
   ]
  }
 ],
 "metadata": {
  "kernelspec": {
   "display_name": "Python 3",
   "language": "python",
   "name": "python3"
  },
  "language_info": {
   "codemirror_mode": {
    "name": "ipython",
    "version": 3
   },
   "file_extension": ".py",
   "mimetype": "text/x-python",
   "name": "python",
   "nbconvert_exporter": "python",
   "pygments_lexer": "ipython3",
   "version": "3.6.3"
  }
 },
 "nbformat": 4,
 "nbformat_minor": 2
}
