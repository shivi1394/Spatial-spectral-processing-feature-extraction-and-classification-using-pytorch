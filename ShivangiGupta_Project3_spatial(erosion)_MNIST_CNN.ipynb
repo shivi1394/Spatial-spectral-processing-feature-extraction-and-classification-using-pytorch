{
 "cells": [
  {
   "cell_type": "code",
   "execution_count": 1,
   "metadata": {
    "collapsed": true
   },
   "outputs": [],
   "source": [
    "import torch\n",
    "import torchvision\n",
    "import torchvision.datasets as datasets\n",
    "import torchvision.transforms as transforms\n",
    "import torch.nn as nn\n",
    "import torch.nn.functional as F\n",
    "import torch.optim as optim    \n",
    "import matplotlib \n",
    "import matplotlib.pyplot as plt\n",
    "import numpy as np\n",
    "import pandas as pd\n",
    "import random\n",
    "import math\n",
    "import numpy\n",
    "from PIL import Image\n",
    "from pylab import *\n",
    "from skimage.feature import hog\n",
    "from skimage import feature\n",
    "from sklearn import datasets\n",
    "import cv2\n",
    "from skimage import exposure\n",
    "import timeit\n",
    "from skimage import transform as tf\n",
    "from scipy import ndimage\n",
    "from sklearn.decomposition import PCA\n",
    "from scipy import fftpack"
   ]
  },
  {
   "cell_type": "code",
   "execution_count": 2,
   "metadata": {
    "collapsed": true
   },
   "outputs": [],
   "source": [
    "#Convolution Neural Network \n",
    "class Net(nn.Module):\n",
    "    def __init__(self):\n",
    "        super(Net, self).__init__()\n",
    "        self.conv1 = nn.Conv2d(1,20,5,1)\n",
    "        self.pool = nn.MaxPool2d(kernel_size=2)\n",
    "        self.conv2 = nn.Conv2d(20, 40, 5, 1)\n",
    "        self.fc1 = nn.Linear(4 * 4 * 40, 500)\n",
    "        self.fc2 = nn.Linear(500, 10)\n",
    "        \n",
    "\n",
    "    def forward(self, x):\n",
    "        x = F.relu(self.conv1(x))\n",
    "        x = self.pool(x)\n",
    "        x = F.relu(self.conv2(x))\n",
    "        x = self.pool(x)\n",
    "        x = x.view(-1, 4 * 4 * 40)\n",
    "        x = F.relu(self.fc1(x))\n",
    "        x = self.fc2(x)\n",
    "        return x\n",
    "\n",
    "net = Net()"
   ]
  },
  {
   "cell_type": "code",
   "execution_count": 3,
   "metadata": {
    "collapsed": true
   },
   "outputs": [],
   "source": [
    "criterion = nn.CrossEntropyLoss() \n",
    "optimizer = optim.Adam(net.parameters(), lr=0.001, betas=(0.9,0.99), eps=1e-08, weight_decay=0.001)  "
   ]
  },
  {
   "cell_type": "code",
   "execution_count": 4,
   "metadata": {
    "collapsed": true
   },
   "outputs": [],
   "source": [
    "# transforms to apply to the mnist data\n",
    "trans = transforms.Compose([transforms.ToTensor(), transforms.Normalize((0.1307,), (0.3081,))])\n",
    "\n",
    "# MNIST dataset\n",
    "train_dataset = torchvision.datasets.MNIST(root='./data', train=True, download=True, transform=trans)\n",
    "test_dataset = torchvision.datasets.MNIST(root='./data', train=False, download=True, transform=trans)\n",
    "classes = (0, 1, 2, 3, 4, 5, 6, 7, 8, 9)"
   ]
  },
  {
   "cell_type": "code",
   "execution_count": 5,
   "metadata": {},
   "outputs": [
    {
     "data": {
      "image/png": "[encoded data removed]",
      "text/plain": [
       "<Figure size 720x720 with 9 Axes>"
      ]
     },
     "metadata": {
      "needs_background": "light"
     },
     "output_type": "display_data"
    }
   ],
   "source": [
    "fig = plt.figure(figsize=(10,10));\n",
    "columns = 4;\n",
    "rows = 5;\n",
    "for i in range(1, 10):\n",
    "    fig.add_subplot(rows, columns, i)\n",
    "    fig.tight_layout()\n",
    "    plt.imshow(train_dataset.train_data[i].numpy(), cmap='gray')\n",
    "    plt.title('Label : %i' % train_dataset.train_labels[i])\n",
    "plt.show()"
   ]
  },
  {
   "cell_type": "code",
   "execution_count": 6,
   "metadata": {
    "collapsed": true
   },
   "outputs": [],
   "source": [
    "#Spatial Processing of the Dataset\n",
    "train_dataset.train_data = train_dataset.train_data.type(torch.FloatTensor)\n",
    "test_dataset.test_data = test_dataset.test_data.type(torch.FloatTensor)\n",
    "for i in range(0,len(train_dataset)):\n",
    "    image = ndimage.binary_erosion(train_dataset.train_data[i].numpy()).astype(train_dataset.train_data[i].numpy().dtype)\n",
    "    train_dataset.train_data[i] = torch.from_numpy(image)\n",
    "    \n",
    "for i in range(0,len(test_dataset)):\n",
    "    image = ndimage.binary_erosion(test_dataset.test_data[i].numpy()).astype(test_dataset.test_data[i].numpy().dtype)\n",
    "    test_dataset.test_data[i] = torch.from_numpy(image)"
   ]
  },
  {
   "cell_type": "code",
   "execution_count": 7,
   "metadata": {},
   "outputs": [
    {
     "data": {
      "image/png": "[encoded data removed]",
      "text/plain": [
       "<Figure size 720x720 with 9 Axes>"
      ]
     },
     "metadata": {
      "needs_background": "light"
     },
     "output_type": "display_data"
    }
   ],
   "source": [
    "fig = plt.figure(figsize=(10,10));\n",
    "columns = 4;\n",
    "rows = 5;\n",
    "for i in range(1, 10):\n",
    "    fig.add_subplot(rows, columns, i)\n",
    "    fig.tight_layout()\n",
    "    plt.imshow(train_dataset.train_data[i].numpy(), cmap='gray')\n",
    "    plt.title('Label : %i' % train_dataset.train_labels[i])\n",
    "plt.show()"
   ]
  },
  {
   "cell_type": "code",
   "execution_count": 8,
   "metadata": {
    "collapsed": true
   },
   "outputs": [],
   "source": [
    "train_loader = torch.utils.data.DataLoader(train_dataset, batch_size=10, shuffle=True, num_workers=2)\n",
    "test_loader = torch.utils.data.DataLoader(dataset=test_dataset, batch_size=10, shuffle=False, num_workers=2)"
   ]
  },
  {
   "cell_type": "code",
   "execution_count": 9,
   "metadata": {},
   "outputs": [
    {
     "name": "stdout",
     "output_type": "stream",
     "text": [
      "----------------------------------------------------\n",
      "Epoch 1  | Loss : 1.4529\n",
      "----------------------------------------------------\n",
      "Epoch 2  | Loss : 1.3647\n",
      "----------------------------------------------------\n",
      "Epoch 3  | Loss : 1.3453\n",
      "----------------------------------------------------\n",
      "Epoch 4  | Loss : 1.3362\n",
      "----------------------------------------------------\n",
      "Epoch 5  | Loss : 1.3292\n",
      "----------------------------------------------------\n",
      "Epoch 6  | Loss : 1.3257\n",
      "----------------------------------------------------\n",
      "Epoch 7  | Loss : 1.3206\n",
      "----------------------------------------------------\n",
      "Epoch 8  | Loss : 1.3174\n",
      "----------------------------------------------------\n",
      "Epoch 9  | Loss : 1.3166\n",
      "----------------------------------------------------\n",
      "Epoch 10  | Loss : 1.3140\n",
      "----------------------------------------------------\n",
      "Epoch 11  | Loss : 1.3126\n",
      "----------------------------------------------------\n",
      "Epoch 12  | Loss : 1.3117\n",
      "----------------------------------------------------\n",
      "Epoch 13  | Loss : 1.3105\n",
      "----------------------------------------------------\n",
      "Epoch 14  | Loss : 1.3103\n",
      "----------------------------------------------------\n",
      "Epoch 15  | Loss : 1.3094\n",
      "----------------------------------------------------\n",
      "Epoch 16  | Loss : 1.3078\n",
      "----------------------------------------------------\n",
      "Epoch 17  | Loss : 1.3080\n",
      "----------------------------------------------------\n",
      "Epoch 18  | Loss : 1.3068\n",
      "----------------------------------------------------\n",
      "Epoch 19  | Loss : 1.3069\n",
      "----------------------------------------------------\n",
      "Epoch 20  | Loss : 1.3064\n",
      "----------------------------------------------------\n",
      "Finished Training\n"
     ]
    }
   ],
   "source": [
    "num_epochs = 20\n",
    "total_step = len(train_loader)\n",
    "Loss = []\n",
    "print('----------------------------------------------------')\n",
    "start= timeit.default_timer()\n",
    "for epoch in range(num_epochs):  # loop over the dataset multiple times\n",
    "\n",
    "    running_loss = 0.0\n",
    "    for i, data in enumerate(train_loader, 0):\n",
    "        # get the inputs\n",
    "        inputs, labels = data\n",
    "\n",
    "        # zero the parameter gradients\n",
    "        optimizer.zero_grad()\n",
    "\n",
    "        # forward + backward + optimize\n",
    "        outputs = net(inputs)\n",
    "        loss = criterion(outputs, labels)\n",
    "        loss.backward()\n",
    "        optimizer.step()\n",
    "\n",
    "        # print statistics\n",
    "        running_loss += loss.item()\n",
    "        \n",
    "    print('Epoch {}  | Loss : {:.4f}'.format(epoch+1, running_loss / total_step))        \n",
    "    print('----------------------------------------------------')\n",
    "    Loss.append(running_loss / total_step)\n",
    "print('Finished Training')\n",
    "stop = timeit.default_timer()"
   ]
  },
  {
   "cell_type": "code",
   "execution_count": 10,
   "metadata": {},
   "outputs": [
    {
     "name": "stdout",
     "output_type": "stream",
     "text": [
      "Accuracy of the network on the Test images: 52 %\n"
     ]
    }
   ],
   "source": [
    "correct = 0\n",
    "total = 0\n",
    "with torch.no_grad():\n",
    "    for data in test_loader:\n",
    "        images, labels = data\n",
    "        outputs = net(images)\n",
    "        _, predicted = torch.max(outputs.data, 1)\n",
    "        total += labels.size(0)\n",
    "        correct += (predicted == labels).sum().item()\n",
    "\n",
    "print('Accuracy of the network on the Test images: %d %%' % (100 * correct / total))"
   ]
  },
  {
   "cell_type": "code",
   "execution_count": 11,
   "metadata": {},
   "outputs": [
    {
     "name": "stdout",
     "output_type": "stream",
     "text": [
      "Accuracy of class 0 : 34 %\n",
      "Accuracy of class 1 : 83 %\n",
      "Accuracy of class 2 : 56 %\n",
      "Accuracy of class 3 : 39 %\n",
      "Accuracy of class 4 : 47 %\n",
      "Accuracy of class 5 : 28 %\n",
      "Accuracy of class 6 : 89 %\n",
      "Accuracy of class 7 : 95 %\n",
      "Accuracy of class 8 : 40 %\n",
      "Accuracy of class 9 :  0 %\n"
     ]
    }
   ],
   "source": [
    "class_correct = list(0. for i in range(10))\n",
    "class_total = list(0. for i in range(10))\n",
    "with torch.no_grad():\n",
    "    for data in test_loader:\n",
    "        images, labels = data\n",
    "        outputs = net(images)\n",
    "        _, predicted = torch.max(outputs, 1)\n",
    "        c = (predicted == labels).squeeze()\n",
    "        for i in range(10):\n",
    "            label = labels[i]\n",
    "            class_correct[label] += c[i].item()\n",
    "            class_total[label] += 1\n",
    "\n",
    "for i in range(10):\n",
    "    print('Accuracy of class %s : %2d %%' % (\n",
    "        classes[i], 100 * class_correct[i] / class_total[i]))"
   ]
  },
  {
   "cell_type": "code",
   "execution_count": 12,
   "metadata": {
    "collapsed": true
   },
   "outputs": [],
   "source": [
    "#Applying Different Feature extraction Methods\n",
    "##SOBEL EDGE Detector##\n",
    "train_sobel = train_dataset\n",
    "test_sobel = test_dataset\n",
    "for i in range(0,len(train_sobel)):\n",
    "    image = ndimage.sobel(train_sobel.train_data[i].numpy()) \n",
    "    train_sobel.train_data[i] = torch.from_numpy(image)\n",
    "    \n",
    "for i in range(0,len(test_sobel)):\n",
    "    image = ndimage.sobel(test_sobel.test_data[i].numpy()) \n",
    "    test_sobel.test_data[i] = torch.from_numpy(image)   "
   ]
  },
  {
   "cell_type": "code",
   "execution_count": 13,
   "metadata": {},
   "outputs": [
    {
     "data": {
      "image/png": "[encoded data removed]",
      "text/plain": [
       "<Figure size 720x720 with 9 Axes>"
      ]
     },
     "metadata": {
      "needs_background": "light"
     },
     "output_type": "display_data"
    }
   ],
   "source": [
    "fig = plt.figure(figsize=(10,10));\n",
    "columns = 4;\n",
    "rows = 5;\n",
    "for i in range(1, 10):\n",
    "    fig.add_subplot(rows, columns, i)\n",
    "    fig.tight_layout()\n",
    "    plt.imshow(train_sobel.train_data[i].numpy(), cmap='gray')\n",
    "    plt.title('Label : %i' % train_sobel.train_labels[i])\n",
    "plt.show()"
   ]
  },
  {
   "cell_type": "code",
   "execution_count": 14,
   "metadata": {
    "collapsed": true
   },
   "outputs": [],
   "source": [
    "train_sobel_loader = torch.utils.data.DataLoader(train_sobel, batch_size=10, shuffle=True, num_workers=2)\n",
    "test_sobel_loader = torch.utils.data.DataLoader(dataset=test_sobel, batch_size=10, shuffle=False, num_workers=2)"
   ]
  },
  {
   "cell_type": "code",
   "execution_count": 15,
   "metadata": {},
   "outputs": [
    {
     "name": "stdout",
     "output_type": "stream",
     "text": [
      "----------------------------------------------------\n",
      "Epoch 1  | Loss : 1.2432\n",
      "----------------------------------------------------\n",
      "Epoch 2  | Loss : 1.1433\n",
      "----------------------------------------------------\n",
      "Epoch 3  | Loss : 1.1184\n",
      "----------------------------------------------------\n",
      "Epoch 4  | Loss : 1.1039\n",
      "----------------------------------------------------\n",
      "Epoch 5  | Loss : 1.0957\n",
      "----------------------------------------------------\n",
      "Epoch 6  | Loss : 1.0902\n",
      "----------------------------------------------------\n",
      "Epoch 7  | Loss : 1.0853\n",
      "----------------------------------------------------\n",
      "Epoch 8  | Loss : 1.0815\n",
      "----------------------------------------------------\n",
      "Epoch 9  | Loss : 1.0805\n",
      "----------------------------------------------------\n",
      "Epoch 10  | Loss : 1.0782\n",
      "----------------------------------------------------\n",
      "Epoch 11  | Loss : 1.0745\n",
      "----------------------------------------------------\n",
      "Epoch 12  | Loss : 1.0732\n",
      "----------------------------------------------------\n",
      "Epoch 13  | Loss : 1.0715\n",
      "----------------------------------------------------\n",
      "Epoch 14  | Loss : 1.0713\n",
      "----------------------------------------------------\n",
      "Epoch 15  | Loss : 1.0688\n",
      "----------------------------------------------------\n",
      "Epoch 16  | Loss : 1.0700\n",
      "----------------------------------------------------\n",
      "Epoch 17  | Loss : 1.0689\n",
      "----------------------------------------------------\n",
      "Epoch 18  | Loss : 1.0671\n",
      "----------------------------------------------------\n",
      "Epoch 19  | Loss : 1.0666\n",
      "----------------------------------------------------\n",
      "Epoch 20  | Loss : 1.0664\n",
      "----------------------------------------------------\n",
      "Finished Training\n"
     ]
    }
   ],
   "source": [
    "num_epochs = 20\n",
    "total_step = len(train_sobel_loader)\n",
    "Loss_1 = []\n",
    "print('----------------------------------------------------')\n",
    "start1 = timeit.default_timer()\n",
    "for epoch in range(num_epochs):  # loop over the dataset multiple times\n",
    "\n",
    "    running_loss = 0.0\n",
    "    for i, data in enumerate(train_sobel_loader, 0):\n",
    "        # get the inputs\n",
    "        inputs, labels = data\n",
    "\n",
    "        # zero the parameter gradients\n",
    "        optimizer.zero_grad()\n",
    "\n",
    "        # forward + backward + optimize\n",
    "        outputs = net(inputs)\n",
    "        loss = criterion(outputs, labels)\n",
    "        loss.backward()\n",
    "        optimizer.step()\n",
    "\n",
    "        # print statistics\n",
    "        running_loss += loss.item()\n",
    "        \n",
    "    print('Epoch {}  | Loss : {:.4f}'.format(epoch+1, running_loss / total_step))        \n",
    "    print('----------------------------------------------------')\n",
    "    Loss_1.append(running_loss / total_step)\n",
    "print('Finished Training')\n",
    "stop1 = timeit.default_timer()"
   ]
  },
  {
   "cell_type": "code",
   "execution_count": 16,
   "metadata": {},
   "outputs": [
    {
     "name": "stdout",
     "output_type": "stream",
     "text": [
      "Accuracy of the network on the Test images: 62 %\n"
     ]
    }
   ],
   "source": [
    "correct = 0\n",
    "total = 0\n",
    "with torch.no_grad():\n",
    "    for data in test_sobel_loader:\n",
    "        images, labels = data\n",
    "        outputs = net(images)\n",
    "        _, predicted = torch.max(outputs.data, 1)\n",
    "        total += labels.size(0)\n",
    "        correct += (predicted == labels).sum().item()\n",
    "\n",
    "print('Accuracy of the network on the Test images: %d %%' % (100 * correct / total))"
   ]
  },
  {
   "cell_type": "code",
   "execution_count": 17,
   "metadata": {},
   "outputs": [
    {
     "name": "stdout",
     "output_type": "stream",
     "text": [
      "Accuracy of class 0 : 64 %\n",
      "Accuracy of class 1 : 90 %\n",
      "Accuracy of class 2 : 46 %\n",
      "Accuracy of class 3 : 53 %\n",
      "Accuracy of class 4 : 67 %\n",
      "Accuracy of class 5 : 53 %\n",
      "Accuracy of class 6 : 91 %\n",
      "Accuracy of class 7 : 76 %\n",
      "Accuracy of class 8 : 26 %\n",
      "Accuracy of class 9 : 53 %\n"
     ]
    }
   ],
   "source": [
    "class_correct = list(0. for i in range(10))\n",
    "class_total = list(0. for i in range(10))\n",
    "with torch.no_grad():\n",
    "    for data in test_sobel_loader:\n",
    "        images, labels = data\n",
    "        outputs = net(images)\n",
    "        _, predicted = torch.max(outputs, 1)\n",
    "        c = (predicted == labels).squeeze()\n",
    "        for i in range(10):\n",
    "            label = labels[i]\n",
    "            class_correct[label] += c[i].item()\n",
    "            class_total[label] += 1\n",
    "\n",
    "for i in range(10):\n",
    "    print('Accuracy of class %s : %2d %%' % (\n",
    "        classes[i], 100 * class_correct[i] / class_total[i]))"
   ]
  },
  {
   "cell_type": "code",
   "execution_count": 18,
   "metadata": {
    "collapsed": true
   },
   "outputs": [],
   "source": [
    "##CANNY EDGE DETECTOR##\n",
    "train_canny  = train_dataset\n",
    "test_canny = test_dataset\n",
    "\n",
    "for i in range(0,len(train_canny)):\n",
    "    image = feature.canny(train_canny.train_data[i].numpy()) * 1\n",
    "    train_canny.train_data[i] = torch.from_numpy(image)\n",
    "    \n",
    "for i in range(0,len(test_canny)):\n",
    "    image = feature.canny(test_canny.test_data[i].numpy()) * 1\n",
    "    test_canny.test_data[i] = torch.from_numpy(image)"
   ]
  },
  {
   "cell_type": "code",
   "execution_count": 19,
   "metadata": {},
   "outputs": [
    {
     "data": {
      "image/png": "[encoded data removed]",
      "text/plain": [
       "<Figure size 720x720 with 9 Axes>"
      ]
     },
     "metadata": {
      "needs_background": "light"
     },
     "output_type": "display_data"
    }
   ],
   "source": [
    "fig = plt.figure(figsize=(10,10));\n",
    "columns = 4;\n",
    "rows = 5;\n",
    "for i in range(1, 10):\n",
    "    fig.add_subplot(rows, columns, i)\n",
    "    fig.tight_layout()\n",
    "    plt.imshow(train_canny.train_data[i].numpy(), cmap='gray')\n",
    "    plt.title('Label : %i' % train_canny.train_labels[i])\n",
    "plt.show()"
   ]
  },
  {
   "cell_type": "code",
   "execution_count": 20,
   "metadata": {
    "collapsed": true
   },
   "outputs": [],
   "source": [
    "train_canny_loader = torch.utils.data.DataLoader(train_canny, batch_size=10, shuffle=True, num_workers=2)\n",
    "test_canny_loader = torch.utils.data.DataLoader(dataset=test_canny, batch_size=10, shuffle=False, num_workers=2)"
   ]
  },
  {
   "cell_type": "code",
   "execution_count": 21,
   "metadata": {},
   "outputs": [
    {
     "name": "stdout",
     "output_type": "stream",
     "text": [
      "----------------------------------------------------\n",
      "Epoch 1  | Loss : 1.2765\n",
      "----------------------------------------------------\n",
      "Epoch 2  | Loss : 1.2048\n",
      "----------------------------------------------------\n",
      "Epoch 3  | Loss : 1.1843\n",
      "----------------------------------------------------\n",
      "Epoch 4  | Loss : 1.1725\n",
      "----------------------------------------------------\n",
      "Epoch 5  | Loss : 1.1654\n",
      "----------------------------------------------------\n",
      "Epoch 6  | Loss : 1.1593\n",
      "----------------------------------------------------\n",
      "Epoch 7  | Loss : 1.1544\n",
      "----------------------------------------------------\n",
      "Epoch 8  | Loss : 1.1502\n",
      "----------------------------------------------------\n",
      "Epoch 9  | Loss : 1.1470\n",
      "----------------------------------------------------\n",
      "Epoch 10  | Loss : 1.1453\n",
      "----------------------------------------------------\n",
      "Epoch 11  | Loss : 1.1428\n",
      "----------------------------------------------------\n",
      "Epoch 12  | Loss : 1.1419\n",
      "----------------------------------------------------\n",
      "Epoch 13  | Loss : 1.1380\n",
      "----------------------------------------------------\n",
      "Epoch 14  | Loss : 1.1388\n",
      "----------------------------------------------------\n",
      "Epoch 15  | Loss : 1.1376\n",
      "----------------------------------------------------\n",
      "Epoch 16  | Loss : 1.1365\n",
      "----------------------------------------------------\n",
      "Epoch 17  | Loss : 1.1344\n",
      "----------------------------------------------------\n",
      "Epoch 18  | Loss : 1.1327\n",
      "----------------------------------------------------\n",
      "Epoch 19  | Loss : 1.1326\n",
      "----------------------------------------------------\n",
      "Epoch 20  | Loss : 1.1310\n",
      "----------------------------------------------------\n",
      "Finished Training\n"
     ]
    }
   ],
   "source": [
    "num_epochs = 20\n",
    "total_step = len(train_canny_loader)\n",
    "Loss_2 = []\n",
    "print('----------------------------------------------------')\n",
    "start2 = timeit.default_timer()\n",
    "for epoch in range(num_epochs):  # loop over the dataset multiple times\n",
    "\n",
    "    running_loss = 0.0\n",
    "    for i, data in enumerate(train_canny_loader, 0):\n",
    "        # get the inputs\n",
    "        inputs, labels = data\n",
    "\n",
    "        # zero the parameter gradients\n",
    "        optimizer.zero_grad()\n",
    "\n",
    "        # forward + backward + optimize\n",
    "        outputs = net(inputs)\n",
    "        loss = criterion(outputs, labels)\n",
    "        loss.backward()\n",
    "        optimizer.step()\n",
    "\n",
    "        # print statistics\n",
    "        running_loss += loss.item()\n",
    "        \n",
    "    print('Epoch {}  | Loss : {:.4f}'.format(epoch+1, running_loss / total_step))        \n",
    "    print('----------------------------------------------------')\n",
    "    Loss_2.append(running_loss / total_step)\n",
    "print('Finished Training')\n",
    "stop2 = timeit.default_timer()"
   ]
  },
  {
   "cell_type": "code",
   "execution_count": 22,
   "metadata": {},
   "outputs": [
    {
     "name": "stdout",
     "output_type": "stream",
     "text": [
      "Accuracy of the network on the Test images: 59 %\n"
     ]
    }
   ],
   "source": [
    "correct = 0\n",
    "total = 0\n",
    "with torch.no_grad():\n",
    "    for data in test_canny_loader:\n",
    "        images, labels = data\n",
    "        outputs = net(images)\n",
    "        _, predicted = torch.max(outputs.data, 1)\n",
    "        total += labels.size(0)\n",
    "        correct += (predicted == labels).sum().item()\n",
    "\n",
    "print('Accuracy of the network on the Test images: %d %%' % (100 * correct / total))"
   ]
  },
  {
   "cell_type": "code",
   "execution_count": 23,
   "metadata": {},
   "outputs": [
    {
     "name": "stdout",
     "output_type": "stream",
     "text": [
      "Accuracy of class 0 : 48 %\n",
      "Accuracy of class 1 : 87 %\n",
      "Accuracy of class 2 : 51 %\n",
      "Accuracy of class 3 : 51 %\n",
      "Accuracy of class 4 : 53 %\n",
      "Accuracy of class 5 : 53 %\n",
      "Accuracy of class 6 : 89 %\n",
      "Accuracy of class 7 : 74 %\n",
      "Accuracy of class 8 : 36 %\n",
      "Accuracy of class 9 : 45 %\n"
     ]
    }
   ],
   "source": [
    "class_correct = list(0. for i in range(10))\n",
    "class_total = list(0. for i in range(10))\n",
    "with torch.no_grad():\n",
    "    for data in test_canny_loader:\n",
    "        images, labels = data\n",
    "        outputs = net(images)\n",
    "        _, predicted = torch.max(outputs, 1)\n",
    "        c = (predicted == labels).squeeze()\n",
    "        for i in range(10):\n",
    "            label = labels[i]\n",
    "            class_correct[label] += c[i].item()\n",
    "            class_total[label] += 1\n",
    "\n",
    "for i in range(10):\n",
    "    print('Accuracy of class %s : %2d %%' % (\n",
    "        classes[i], 100 * class_correct[i] / class_total[i]))"
   ]
  },
  {
   "cell_type": "code",
   "execution_count": 24,
   "metadata": {
    "collapsed": true
   },
   "outputs": [],
   "source": [
    "##LOCAL BINARY PATTERN##\n",
    "train_lbp = train_dataset\n",
    "test_lbp = test_dataset\n",
    "\n",
    "for i in range(0,len(train_lbp)):\n",
    "    image = feature.local_binary_pattern(train_lbp.train_data[i].numpy(), P = 100, R = 50)\n",
    "    train_lbp.train_data[i] = torch.from_numpy(image)\n",
    "    \n",
    "for i in range(0,len(test_lbp)):\n",
    "    image = feature.local_binary_pattern(test_lbp.test_data[i].numpy(), P = 100, R = 50)\n",
    "    test_lbp.test_data[i] = torch.from_numpy(image)"
   ]
  },
  {
   "cell_type": "code",
   "execution_count": 25,
   "metadata": {},
   "outputs": [
    {
     "data": {
      "image/png": "[encoded data removed]",
      "text/plain": [
       "<Figure size 720x720 with 9 Axes>"
      ]
     },
     "metadata": {
      "needs_background": "light"
     },
     "output_type": "display_data"
    }
   ],
   "source": [
    "fig = plt.figure(figsize=(10,10));\n",
    "columns = 4;\n",
    "rows = 5;\n",
    "for i in range(1, 10):\n",
    "    fig.add_subplot(rows, columns, i)\n",
    "    fig.tight_layout()\n",
    "    plt.imshow(train_lbp.train_data[i].numpy(), cmap='gray')\n",
    "    plt.title('Label : %i' % train_lbp.train_labels[i])\n",
    "plt.show()"
   ]
  },
  {
   "cell_type": "code",
   "execution_count": 26,
   "metadata": {
    "collapsed": true
   },
   "outputs": [],
   "source": [
    "train_lbp_loader = torch.utils.data.DataLoader(train_lbp, batch_size=10, shuffle=True, num_workers=2)\n",
    "test_lbp_loader = torch.utils.data.DataLoader(dataset=test_lbp, batch_size=10, shuffle=False, num_workers=2)"
   ]
  },
  {
   "cell_type": "code",
   "execution_count": 27,
   "metadata": {},
   "outputs": [
    {
     "name": "stdout",
     "output_type": "stream",
     "text": [
      "----------------------------------------------------\n",
      "Epoch 1  | Loss : 1.4477\n",
      "----------------------------------------------------\n",
      "Epoch 2  | Loss : 1.2771\n",
      "----------------------------------------------------\n",
      "Epoch 3  | Loss : 1.2424\n",
      "----------------------------------------------------\n",
      "Epoch 4  | Loss : 1.2222\n",
      "----------------------------------------------------\n",
      "Epoch 5  | Loss : 1.2101\n",
      "----------------------------------------------------\n",
      "Epoch 6  | Loss : 1.2014\n",
      "----------------------------------------------------\n",
      "Epoch 7  | Loss : 1.1952\n",
      "----------------------------------------------------\n",
      "Epoch 8  | Loss : 1.1893\n",
      "----------------------------------------------------\n",
      "Epoch 9  | Loss : 1.1835\n",
      "----------------------------------------------------\n",
      "Epoch 10  | Loss : 1.1810\n",
      "----------------------------------------------------\n",
      "Epoch 11  | Loss : 1.1801\n",
      "----------------------------------------------------\n",
      "Epoch 12  | Loss : 1.1770\n",
      "----------------------------------------------------\n",
      "Epoch 13  | Loss : 1.1743\n",
      "----------------------------------------------------\n",
      "Epoch 14  | Loss : 1.1722\n",
      "----------------------------------------------------\n",
      "Epoch 15  | Loss : 1.1704\n",
      "----------------------------------------------------\n",
      "Epoch 16  | Loss : 1.1701\n",
      "----------------------------------------------------\n",
      "Epoch 17  | Loss : 1.1676\n",
      "----------------------------------------------------\n",
      "Epoch 18  | Loss : 1.1649\n",
      "----------------------------------------------------\n",
      "Epoch 19  | Loss : 1.1648\n",
      "----------------------------------------------------\n",
      "Epoch 20  | Loss : 1.1621\n",
      "----------------------------------------------------\n",
      "Finished Training\n"
     ]
    }
   ],
   "source": [
    "num_epochs = 20\n",
    "total_step = len(train_lbp_loader)\n",
    "Loss_3 = []\n",
    "print('----------------------------------------------------')\n",
    "start3 = timeit.default_timer()\n",
    "for epoch in range(num_epochs):  # loop over the dataset multiple times\n",
    "\n",
    "    running_loss = 0.0\n",
    "    for i, data in enumerate(train_lbp_loader, 0):\n",
    "        # get the inputs\n",
    "        inputs, labels = data\n",
    "\n",
    "        # zero the parameter gradients\n",
    "        optimizer.zero_grad()\n",
    "\n",
    "        # forward + backward + optimize\n",
    "        outputs = net(inputs)\n",
    "        loss = criterion(outputs, labels)\n",
    "        loss.backward()\n",
    "        optimizer.step()\n",
    "\n",
    "        # print statistics\n",
    "        running_loss += loss.item()\n",
    "        \n",
    "    print('Epoch {}  | Loss : {:.4f}'.format(epoch+1, running_loss / total_step))        \n",
    "    print('----------------------------------------------------')\n",
    "    Loss_3.append(running_loss / total_step)\n",
    "print('Finished Training')\n",
    "stop3 = timeit.default_timer()"
   ]
  },
  {
   "cell_type": "code",
   "execution_count": 28,
   "metadata": {},
   "outputs": [
    {
     "name": "stdout",
     "output_type": "stream",
     "text": [
      "Accuracy of the network on the Test images: 58 %\n"
     ]
    }
   ],
   "source": [
    "correct = 0\n",
    "total = 0\n",
    "with torch.no_grad():\n",
    "    for data in test_lbp_loader:\n",
    "        images, labels = data\n",
    "        outputs = net(images)\n",
    "        _, predicted = torch.max(outputs.data, 1)\n",
    "        total += labels.size(0)\n",
    "        correct += (predicted == labels).sum().item()\n",
    "\n",
    "print('Accuracy of the network on the Test images: %d %%' % (100 * correct / total))"
   ]
  },
  {
   "cell_type": "code",
   "execution_count": 29,
   "metadata": {},
   "outputs": [
    {
     "name": "stdout",
     "output_type": "stream",
     "text": [
      "Accuracy of class 0 : 59 %\n",
      "Accuracy of class 1 : 89 %\n",
      "Accuracy of class 2 : 44 %\n",
      "Accuracy of class 3 : 55 %\n",
      "Accuracy of class 4 : 51 %\n",
      "Accuracy of class 5 : 47 %\n",
      "Accuracy of class 6 : 90 %\n",
      "Accuracy of class 7 : 70 %\n",
      "Accuracy of class 8 : 24 %\n",
      "Accuracy of class 9 : 50 %\n"
     ]
    }
   ],
   "source": [
    "class_correct = list(0. for i in range(10))\n",
    "class_total = list(0. for i in range(10))\n",
    "with torch.no_grad():\n",
    "    for data in test_lbp_loader:\n",
    "        images, labels = data\n",
    "        outputs = net(images)\n",
    "        _, predicted = torch.max(outputs, 1)\n",
    "        c = (predicted == labels).squeeze()\n",
    "        for i in range(10):\n",
    "            label = labels[i]\n",
    "            class_correct[label] += c[i].item()\n",
    "            class_total[label] += 1\n",
    "            \n",
    "for i in range(10):\n",
    "    print('Accuracy of class %s : %2d %%' % (\n",
    "        classes[i], 100 * class_correct[i] / class_total[i]))"
   ]
  },
  {
   "cell_type": "code",
   "execution_count": 30,
   "metadata": {
    "collapsed": true
   },
   "outputs": [],
   "source": [
    "##PEAK LOCAL MAXIMA##\n",
    "train_plm = train_dataset\n",
    "test_plm = test_dataset\n",
    "\n",
    "for i in range(0,len(train_plm)):\n",
    "    image = feature.peak_local_max(train_plm.train_data[i].numpy(), indices = False) * 1\n",
    "    train_plm.train_data[i] = torch.from_numpy(image)\n",
    "    \n",
    "for i in range(0,len(test_plm)):\n",
    "    image = feature.peak_local_max(test_plm.test_data[i].numpy(), indices = False) * 1\n",
    "    test_plm.test_data[i] = torch.from_numpy(image)"
   ]
  },
  {
   "cell_type": "code",
   "execution_count": 31,
   "metadata": {},
   "outputs": [
    {
     "data": {
      "image/png": "[encoded data removed]",
      "text/plain": [
       "<Figure size 720x720 with 9 Axes>"
      ]
     },
     "metadata": {
      "needs_background": "light"
     },
     "output_type": "display_data"
    }
   ],
   "source": [
    "fig = plt.figure(figsize=(10,10));\n",
    "columns = 4;\n",
    "rows = 5;\n",
    "for i in range(1, 10):\n",
    "    fig.add_subplot(rows, columns, i)\n",
    "    fig.tight_layout()\n",
    "    plt.imshow(train_plm.train_data[i].numpy(), cmap='gray')\n",
    "    plt.title('Label : %i' % train_plm.train_labels[i])\n",
    "plt.show()"
   ]
  },
  {
   "cell_type": "code",
   "execution_count": 32,
   "metadata": {
    "collapsed": true
   },
   "outputs": [],
   "source": [
    "train_plm_loader = torch.utils.data.DataLoader(train_plm, batch_size=10, shuffle=True, num_workers=2)\n",
    "test_plm_loader = torch.utils.data.DataLoader(dataset=test_plm, batch_size=10, shuffle=False, num_workers=2)"
   ]
  },
  {
   "cell_type": "code",
   "execution_count": 33,
   "metadata": {},
   "outputs": [
    {
     "name": "stdout",
     "output_type": "stream",
     "text": [
      "----------------------------------------------------\n",
      "Epoch 1  | Loss : 1.3139\n",
      "----------------------------------------------------\n",
      "Epoch 2  | Loss : 1.2140\n",
      "----------------------------------------------------\n",
      "Epoch 3  | Loss : 1.1869\n",
      "----------------------------------------------------\n",
      "Epoch 4  | Loss : 1.1758\n",
      "----------------------------------------------------\n",
      "Epoch 5  | Loss : 1.1658\n",
      "----------------------------------------------------\n",
      "Epoch 6  | Loss : 1.1610\n",
      "----------------------------------------------------\n",
      "Epoch 7  | Loss : 1.1545\n",
      "----------------------------------------------------\n",
      "Epoch 8  | Loss : 1.1519\n",
      "----------------------------------------------------\n",
      "Epoch 9  | Loss : 1.1492\n",
      "----------------------------------------------------\n",
      "Epoch 10  | Loss : 1.1470\n",
      "----------------------------------------------------\n",
      "Epoch 11  | Loss : 1.1440\n",
      "----------------------------------------------------\n",
      "Epoch 12  | Loss : 1.1411\n",
      "----------------------------------------------------\n",
      "Epoch 13  | Loss : 1.1398\n",
      "----------------------------------------------------\n",
      "Epoch 14  | Loss : 1.1390\n",
      "----------------------------------------------------\n",
      "Epoch 15  | Loss : 1.1377\n",
      "----------------------------------------------------\n",
      "Epoch 16  | Loss : 1.1386\n",
      "----------------------------------------------------\n",
      "Epoch 17  | Loss : 1.1354\n",
      "----------------------------------------------------\n",
      "Epoch 18  | Loss : 1.1350\n",
      "----------------------------------------------------\n",
      "Epoch 19  | Loss : 1.1343\n",
      "----------------------------------------------------\n",
      "Epoch 20  | Loss : 1.1333\n",
      "----------------------------------------------------\n",
      "Finished Training\n"
     ]
    }
   ],
   "source": [
    "num_epochs = 20\n",
    "total_step = len(train_plm_loader)\n",
    "Loss_4 = []\n",
    "print('----------------------------------------------------')\n",
    "start4 = timeit.default_timer()\n",
    "for epoch in range(num_epochs):  # loop over the dataset multiple times\n",
    "\n",
    "    running_loss = 0.0\n",
    "    for i, data in enumerate(train_plm_loader, 0):\n",
    "        # get the inputs\n",
    "        inputs, labels = data\n",
    "\n",
    "        # zero the parameter gradients\n",
    "        optimizer.zero_grad()\n",
    "\n",
    "        # forward + backward + optimize\n",
    "        outputs = net(inputs)\n",
    "        loss = criterion(outputs, labels)\n",
    "        loss.backward()\n",
    "        optimizer.step()\n",
    "\n",
    "        # print statistics\n",
    "        running_loss += loss.item()\n",
    "        \n",
    "    print('Epoch {}  | Loss : {:.4f}'.format(epoch+1, running_loss / total_step))        \n",
    "    print('----------------------------------------------------')\n",
    "    Loss_4.append(running_loss / total_step)\n",
    "print('Finished Training')\n",
    "stop4 = timeit.default_timer()"
   ]
  },
  {
   "cell_type": "code",
   "execution_count": 34,
   "metadata": {},
   "outputs": [
    {
     "name": "stdout",
     "output_type": "stream",
     "text": [
      "Accuracy of the network on the Test images: 58 %\n"
     ]
    }
   ],
   "source": [
    "correct = 0\n",
    "total = 0\n",
    "with torch.no_grad():\n",
    "    for data in test_plm_loader:\n",
    "        images, labels = data\n",
    "        outputs = net(images)\n",
    "        _, predicted = torch.max(outputs.data, 1)\n",
    "        total += labels.size(0)\n",
    "        correct += (predicted == labels).sum().item()\n",
    "\n",
    "print('Accuracy of the network on the Test images: %d %%' % (100 * correct / total))"
   ]
  },
  {
   "cell_type": "code",
   "execution_count": 35,
   "metadata": {},
   "outputs": [
    {
     "name": "stdout",
     "output_type": "stream",
     "text": [
      "Accuracy of class 0 : 57 %\n",
      "Accuracy of class 1 : 84 %\n",
      "Accuracy of class 2 : 35 %\n",
      "Accuracy of class 3 : 64 %\n",
      "Accuracy of class 4 : 58 %\n",
      "Accuracy of class 5 : 52 %\n",
      "Accuracy of class 6 : 90 %\n",
      "Accuracy of class 7 : 73 %\n",
      "Accuracy of class 8 : 27 %\n",
      "Accuracy of class 9 : 41 %\n"
     ]
    }
   ],
   "source": [
    "classes = (0, 1, 2, 3, 4, 5, 6, 7, 8, 9)\n",
    "class_correct = list(0. for i in range(10))\n",
    "class_total = list(0. for i in range(10))\n",
    "with torch.no_grad():\n",
    "    for data in test_plm_loader:\n",
    "        images, labels = data\n",
    "        outputs = net(images)\n",
    "        _, predicted = torch.max(outputs, 1)\n",
    "        c = (predicted == labels).squeeze()\n",
    "        for i in range(10):\n",
    "            label = labels[i]\n",
    "            class_correct[label] += c[i].item()\n",
    "            class_total[label] += 1\n",
    "            \n",
    "for i in range(10):\n",
    "    print('Accuracy of class %s : %2d %%' % (\n",
    "        classes[i], 100 * class_correct[i] / class_total[i]))"
   ]
  },
  {
   "cell_type": "code",
   "execution_count": 36,
   "metadata": {},
   "outputs": [
    {
     "data": {
      "image/png": "[encoded data removed]",
      "text/plain": [
       "<Figure size 432x288 with 1 Axes>"
      ]
     },
     "metadata": {
      "needs_background": "light"
     },
     "output_type": "display_data"
    }
   ],
   "source": [
    "plt.plot(Loss, 'k--', label = \"Erosion (Spatial Processing) + CNN \")\n",
    "plt.plot(Loss_1, 'r--', label = \"Erosion (Spatial Processing) + Sobel Edge detector + CNN\")\n",
    "plt.plot(Loss_2, 'b--', label = \"Erosion (Spatial Processing) + Canny Edge detector + CNN\")\n",
    "plt.plot(Loss_3, 'g--', label = \"Erosion (Spatial Processing) + Local Binary pattern + CNN\")\n",
    "plt.plot(Loss_4, 'y--', label = \"Erosion (Spatial Processing) + Peak Local Max + CNN\")\n",
    "plt.title(\"Loss vs Epoch for MNIST Dataset (using CNN)\")\n",
    "plt.xlim([0, num_epochs])\n",
    "plt.xlabel(\"Epoch\")\n",
    "plt.ylabel(\"Loss\")\n",
    "plt.legend(bbox_to_anchor=(1.05, 1), loc=2, borderaxespad=0.)\n",
    "plt.show()"
   ]
  },
  {
   "cell_type": "code",
   "execution_count": 37,
   "metadata": {},
   "outputs": [
    {
     "name": "stdout",
     "output_type": "stream",
     "text": [
      "Computation time for classifying the data for Erosion (Spatial Processing) + CNN : 15.431180 minutes\n",
      "Computation time for classifying the data for Erosion (Spatial Processing) + Sobel Edge detector + CNN : 14.965321 minutes\n",
      "Computation time for classifying the data for Erosion (Spatial Processing) + Canny Edge detector + CNN : 15.793924 minutes\n",
      "Computation time for classifying the data for Erosion (Spatial Processing) + Local Binary pattern + CNN : 16.287506 minutes\n",
      "Computation time for classifying the data for Erosion (Spatial Processing) + Peak Local Max + CNN : 14.881601 minutes\n"
     ]
    }
   ],
   "source": [
    "print(\"Computation time for classifying the data for Erosion (Spatial Processing) + CNN : %f minutes\" %((stop-start)/60))\n",
    "print(\"Computation time for classifying the data for Erosion (Spatial Processing) + Sobel Edge detector + CNN : %f minutes\" %((stop1-start1)/60))\n",
    "print(\"Computation time for classifying the data for Erosion (Spatial Processing) + Canny Edge detector + CNN : %f minutes\" %((stop2-start2)/60))\n",
    "print(\"Computation time for classifying the data for Erosion (Spatial Processing) + Local Binary pattern + CNN : %f minutes\" %((stop3-start3)/60))\n",
    "print(\"Computation time for classifying the data for Erosion (Spatial Processing) + Peak Local Max + CNN : %f minutes\" %((stop4-start4)/60))"
   ]
  }
 ],
 "metadata": {
  "kernelspec": {
   "display_name": "Python 3",
   "language": "python",
   "name": "python3"
  },
  "language_info": {
   "codemirror_mode": {
    "name": "ipython",
    "version": 3
   },
   "file_extension": ".py",
   "mimetype": "text/x-python",
   "name": "python",
   "nbconvert_exporter": "python",
   "pygments_lexer": "ipython3",
   "version": "3.6.3"
  }
 },
 "nbformat": 4,
 "nbformat_minor": 2
}
